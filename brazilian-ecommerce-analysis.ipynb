��������������������������������������������������������������������������������������������������������������������������������������������������������������������������������������������������������������������������������������������������������������������������������������������������������������������������������������������������������������������������������������������������������������������������������������������������������������������������������������������������������������������������������������������������������������������������������������������������������������������������������������������������������������������������������������������������������������������������������������������������������������������������������������������������������������������������������������������������������������������������������������������������������������������������������������������������������������������������������������������������������������������������������������������������������������������������������������������������������������������������������������������������������������������������������������������������������������������������������������������������������������������������������������������������������������������������������������������������������������������������������������������������������������������������������������������������������������������������������������������������������������������������������������������������������������������������������������������������������������������������������������������������������������������������������������������������������������������������������������������������������������������������������������������������������������������������������������������������������������������������������������������������������������������������������������������������������������������������������������������������������������������������������������������������������������������������������������������������������������������������������������������������������������������������������������������������������������������������������������������������������������������������������������������������������������������������������������������������������������������������������������������������������������������������������������������������������������������������������������������������������������������������������������������������������������������������������������������������������������������������������������������������������������������������������������������������������������������������������������������������������������������������������������������������������������������������������������������������������������������������������������������������������������������������������������������������������������������������������������������������������������������������������������������������������������������������������������������������������������������������������������������������������������������������������������������������������������������������������������������������������������������������������������������������������������������������������������������������������������������������������������������������������������������������������������������������������������������������������������������������������������������������������������������������������������������������������������������������������������������������������������������������������������������������������������������������������������������������������������������������������������������������������������������������������������������������������������������������������������������������������������������������������������������������������������������������������������������������������������������������������������������������������������������������������������������������������������������������������������������������������������������������������������������������������������������������������������������������������������������������������������������������������������������������������������������������������������������������������������������������������������������������������������������������������������������������������������������������������������������������������������������������������������������������������������������������������������������������������������������������������������������������������������������������������������������������������������������������������������������������������������������������������������������������������������������������������������������������������������������������������������������������������������������������������������������������������������������������������������������������������������������������������������������������������������������������������������������������������������������������������������������������������������������������������������������������������������������������������������������������������������������������������������������������������������������������������������������������������������������������������������������������������������������������������������������������������������������������������������������������������������������������������������������������������������������������������������������������������������������������������������������������������������������������������������������������������������������������������������������������������������������������������������������������������������������������������������������������������������������������������������������������������������������������������������������������������������������������������������������������������������������������������������������������������������������������������������������������������������������������������������������������������������������������������������������������������������������������������������������������������������������������������������������������������������������������������������������������������������������������������������������������������������������������������������������������������������������������������������������������������������������������������������������������������������������������������������������������������������������������������������������������������������������������������������������������������������������������������������������������������������������������������������������������������������������������������������������������������������������������������������������������������������������½�����������������������������������������������������������������������������������������������������������������������������¿�����������������������������������������������¿��������������������������������������������������������������������������������������������������������������������������������������������������������������������������������������������������������������������������������������������������������������������������������������������������������������������������������������������������������������������������������������������������������������������������������������������������������������������������������������������������������������������������������������������������������������������������������������������������������������������������������������������������������������������������������������������������������������������������������������������������������������������������������������������������������������������������������������������������������������������������������������������������������������������������������������������������������������������������������������������������������������������������������������������������������������������������������������������������������������������������������������������������������������������������������������������������������������������������������������������������������������������������������������������������������������������������������������������������������������������������������������������������������������������������er_unique_id</th>\n",
       "      <th>customer_zip_code_prefix</th>\n",
       "      <th>customer_city</th>\n",
       "      <th>customer_state</th>\n",
       "    </tr>\n",
       "  </thead>\n",
       "  <tbody>\n",
       "    <tr>\n",
       "      <th>0</th>\n",
       "      <td>06b8999e2fba1a1fbc88172c00ba8bc7</td>\n",
       "      <td>861eff4711a542e4b93843c6dd7febb0</td>\n",
       "      <td>14409</td>\n",
       "      <td>franca</td>\n",
       "      <td>SP</td>\n",
       "    </tr>\n",
       "    <tr>\n",
       "      <th>1</th>\n",
       "      <td>18955e83d337fd6b2def6b18a428ac77</td>\n",
       "      <td>290c77bc529b7ac935b93aa66c333dc3</td>\n",
       "      <td>9790</td>\n",
       "      <td>sao bernardo do campo</td>\n",
       "      <td>SP</td>\n",
       "    </tr>\n",
       "    <tr>\n",
       "      <th>2</th>\n",
       "      <td>4e7b3e00288586ebd08712fdd0374a03</td>\n",
       "      <td>060e732b5b29e8181a18229c7b0b2b5e</td>\n",
       "      <td>1151</td>\n",
       "      <td>sao paulo</td>\n",
       "      <td>SP</td>\n",
       "    </tr>\n",
       "    <tr>\n",
       "      <th>3</th>\n",
       "      <td>b2b6027bc5c5109e529d4dc6358b12c3</td>\n",
       "      <td>259dac757896d24d7702b9acbbff3f3c</td>\n",
       "      <td>8775</td>\n",
       "      <td>mogi das cruzes</td>\n",
       "      <td>SP</td>\n",
       "    </tr>\n",
       "    <tr>\n",
       "      <th>4</th>\n",
       "      <td>4f2d8ab171c80ec8364f7c12e35b23ad</td>\n",
       "      <td>345ecd01c38d18a9036ed96c73b8d066</td>\n",
       "      <td>13056</td>\n",
       "      <td>campinas</td>\n",
       "      <td>SP</td>\n",
       "    </tr>\n",
       "  </tbody>\n",
       "</table>\n",
       "</div>"
      ],
      "text/plain": [
       "                        customer_id                customer_unique_id  \\\n",
       "0  06b8999e2fba1a1fbc88172c00ba8bc7  861eff4711a542e4b93843c6dd7febb0   \n",
       "1  18955e83d337fd6b2def6b18a428ac77  290c77bc529b7ac935b93aa66c333dc3   \n",
       "2  4e7b3e00288586ebd08712fdd0374a03  060e732b5b29e8181a18229c7b0b2b5e   \n",
       "3  b2b6027bc5c5109e529d4dc6358b12c3  259dac757896d24d7702b9acbbff3f3c   \n",
       "4  4f2d8ab171c80ec8364f7c12e35b23ad  345ecd01c38d18a9036ed96c73b8d066   \n",
       "\n",
       "   customer_zip_code_prefix          customer_city customer_state  \n",
       "0                     14409                 franca             SP  \n",
       "1                      9790  sao bernardo do campo             SP  \n",
       "2                      1151              sao paulo             SP  \n",
       "3                      8775        mogi das cruzes             SP  \n",
       "4                     13056               campinas             SP  "
      ]
     },
     "execution_count": 6,
     "metadata": {},
     "output_type": "execute_result"
    }
   ],
   "source": [
    "# print top 5 values\n",
    "customers.head(5)"
   ]
  },
  {
   "cell_type": "code",
   "execution_count": 7,
   "metadata": {
    "execution": {
     "iopub.execute_input": "2021-11-10T10:09:56.367941Z",
     "iopub.status.busy": "2021-11-10T10:09:56.367154Z",
     "iopub.status.idle": "2021-11-10T10:09:56.370972Z",
     "shell.execute_reply": "2021-11-10T10:09:56.370517Z",
     "shell.execute_reply.started": "2021-09-21T07:44:17.23689Z"
    },
    "papermill": {
     "duration": 0.048472,
     "end_time": "2021-11-10T10:09:56.371113",
     "exception": false,
     "start_time": "2021-11-10T10:09:56.322641",
     "status": "completed"
    },
    "tags": []
   },
   "outputs": [
    {
     "data": {
      "text/plain": [
       "(99441, 5)"
      ]
     },
     "execution_count": 7,
     "metadata": {},
     "output_type": "execute_result"
    }
   ],
   "source": [
    "customers.shape"
   ]
  },
  {
   "cell_type": "code",
   "execution_count": 8,
   "metadata": {
    "execution": {
     "iopub.execute_input": "2021-11-10T10:09:56.475235Z",
     "iopub.status.busy": "2021-11-10T10:09:56.474155Z",
     "iopub.status.idle": "2021-11-10T10:09:56.483811Z",
     "shell.execute_reply": "2021-11-10T10:09:56.484398Z",
     "shell.execute_reply.started": "2021-09-21T07:44:17.244088Z"
    },
    "papermill": {
     "duration": 0.075134,
     "end_time": "2021-11-10T10:09:56.484623",
     "exception": false,
     "start_time": "2021-11-10T10:09:56.409489",
     "status": "completed"
    },
    "tags": []
   },
   "outputs": [
    {
     "data": {
      "text/plain": [
       "customer_id                 0\n",
       "customer_unique_id          0\n",
       "customer_zip_code_prefix    0\n",
       "customer_city               0\n",
       "customer_state              0\n",
       "dtype: int64"
      ]
     },
     "execution_count": 8,
     "metadata": {},
     "output_type": "execute_result"
    }
   ],
   "source": [
    "customers.isnull().sum()"
   ]
  },
  {
   "cell_type": "markdown",
   "metadata": {
    "papermill": {
     "duration": 0.039398,
     "end_time": "2021-11-10T10:09:56.565293",
     "exception": false,
     "start_time": "2021-11-10T10:09:56.525895",
     "status": "completed"
    },
    "tags": []
   },
   "source": [
    "#### We can see that there is no null value in Customers dataset\n",
    "#### Now, we will try to find no of unique states and city from the Customers Dataset"
   ]
  },
  {
   "cell_type": "code",
   "execution_count": 9,
   "metadata": {
    "execution": {
     "iopub.execute_input": "2021-11-10T10:09:56.654725Z",
     "iopub.status.busy": "2021-11-10T10:09:56.653986Z",
     "iopub.status.idle": "2021-11-10T10:09:56.664806Z",
     "shell.execute_reply": "2021-11-10T10:09:56.665406Z",
     "shell.execute_reply.started": "2021-09-21T07:44:17.303436Z"
    },
    "papermill": {
     "duration": 0.061606,
     "end_time": "2021-11-10T10:09:56.665578",
     "exception": false,
     "start_time": "2021-11-10T10:09:56.603972",
     "status": "completed"
    },
    "tags": []
   },
   "outputs": [
    {
     "data": {
      "text/plain": [
       "array(['franca', 'sao bernardo do campo', 'sao paulo', ...,\n",
       "       'monte bonito', 'sao rafael', 'eugenio de castro'], dtype=object)"
      ]
     },
     "execution_count": 9,
     "metadata": {},
     "output_type": "execute_result"
    }
   ],
   "source": [
    "customers.customer_city.unique()"
   ]
  },
  {
   "cell_type": "code",
   "execution_count": 10,
   "metadata": {
    "execution": {
     "iopub.execute_input": "2021-11-10T10:09:56.748028Z",
     "iopub.status.busy": "2021-11-10T10:09:56.747453Z",
     "iopub.status.idle": "2021-11-10T10:09:56.761360Z",
     "shell.execute_reply": "2021-11-10T10:09:56.761879Z",
     "shell.execute_reply.started": "2021-09-21T07:44:17.329487Z"
    },
    "papermill": {
     "duration": 0.056985,
     "end_time": "2021-11-10T10:09:56.762068",
     "exception": false,
     "start_time": "2021-11-10T10:09:56.705083",
     "status": "completed"
    },
    "tags": []
   },
   "outputs": [
    {
     "data": {
      "text/plain": [
       "4119"
      ]
     },
     "execution_count": 10,
     "metadata": {},
     "output_type": "execute_result"
    }
   ],
   "source": [
    "len(customers.customer_city.unique())"
   ]
  },
  {
   "cell_type": "markdown",
   "metadata": {
    "papermill": {
     "duration": 0.038689,
     "end_time": "2021-11-10T10:09:56.839798",
     "exception": false,
     "start_time": "2021-11-10T10:09:56.801109",
     "status": "completed"
    },
    "tags": []
   },
   "source": [
    "#### There are total 4119 different Cities from where Customers visit"
   ]
  },
  {
   "cell_type": "code",
   "execution_count": 11,
   "metadata": {
    "execution": {
     "iopub.execute_input": "2021-11-10T10:09:56.921943Z",
     "iopub.status.busy": "2021-11-10T10:09:56.921305Z",
     "iopub.status.idle": "2021-11-10T10:09:56.932866Z",
     "shell.execute_reply": "2021-11-10T10:09:56.933406Z",
     "shell.execute_reply.started": "2021-09-21T07:44:17.346216Z"
    },
    "papermill": {
     "duration": 0.0539,
     "end_time": "2021-11-10T10:09:56.933583",
     "exception": false,
     "start_time": "2021-11-10T10:09:56.879683",
     "status": "completed"
    },
    "tags": []
   },
   "outputs": [
    {
     "data": {
      "text/plain": [
       "array(['SP', 'SC', 'MG', 'PR', 'RJ', 'RS', 'PA', 'GO', 'ES', 'BA', 'MA',\n",
       "       'MS', 'CE', 'DF', 'RN', 'PE', 'MT', 'AM', 'AP', 'AL', 'RO', 'PB',\n",
       "       'TO', 'PI', 'AC', 'SE', 'RR'], dtype=object)"
      ]
     },
     "execution_count": 11,
     "metadata": {},
     "output_type": "execute_result"
    }
   ],
   "source": [
    "customers.customer_state.unique()"
   ]
  },
  {
   "cell_type": "code",
   "execution_count": 12,
   "metadata": {
    "execution": {
     "iopub.execute_input": "2021-11-10T10:09:57.016164Z",
     "iopub.status.busy": "2021-11-10T10:09:57.015568Z",
     "iopub.status.idle": "2021-11-10T10:09:57.027757Z",
     "shell.execute_reply": "2021-11-10T10:09:57.027250Z",
     "shell.execute_reply.started": "2021-09-21T07:44:17.365716Z"
    },
    "papermill": {
     "duration": 0.054755,
     "end_time": "2021-11-10T10:09:57.027896",
     "exception": false,
     "start_time": "2021-11-10T10:09:56.973141",
     "status": "completed"
    },
    "tags": []
   },
   "outputs": [
    {
     "data": {
      "text/plain": [
       "27"
      ]
     },
     "execution_count": 12,
     "metadata": {},
     "output_type": "execute_result"
    }
   ],
   "source": [
    "len(customers.customer_state.unique())"
   ]
  },
  {
   "cell_type": "raw",
   "metadata": {
    "papermill": {
     "duration": 0.038896,
     "end_time": "2021-11-10T10:09:57.106538",
     "exception": false,
     "start_time": "2021-11-10T10:09:57.067642",
     "status": "completed"
    },
    "tags": []
   },
   "source": [
    "There are total 27 different states"
   ]
  },
  {
   "cell_type": "markdown",
   "metadata": {
    "papermill": {
     "duration": 0.039401,
     "end_time": "2021-11-10T10:09:57.187256",
     "exception": false,
     "start_time": "2021-11-10T10:09:57.147855",
     "status": "completed"
    },
    "tags": []
   },
   "source": [
    "### Visualisation of Customer Dataset"
   ]
  },
  {
   "cell_type": "code",
   "execution_count": 13,
   "metadata": {
    "execution": {
     "iopub.execute_input": "2021-11-10T10:09:57.273651Z",
     "iopub.status.busy": "2021-11-10T10:09:57.273017Z",
     "iopub.status.idle": "2021-11-10T10:09:57.660464Z",
     "shell.execute_reply": "2021-11-10T10:09:57.659799Z",
     "shell.execute_reply.started": "2021-09-21T07:44:17.381659Z"
    },
    "papermill": {
     "duration": 0.433556,
     "end_time": "2021-11-10T10:09:57.660619",
     "exception": false,
     "start_time": "2021-11-10T10:09:57.227063",
     "status": "completed"
    },
    "tags": []
   },
   "outputs": [
    {
     "data": {
      "image/png": "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\n",
      "text/plain": [
       "<Figure size 936x504 with 1 Axes>"
      ]
     },
     "metadata": {
      "needs_background": "light"
     },
     "output_type": "display_data"
    }
   ],
   "source": [
    "plt.figure(figsize=(13,7))\n",
    "sns.histplot(x=customers['customer_state'],data=customers,color='blue')\n",
    "plt.show()"
   ]
  },
  {
   "cell_type": "markdown",
   "metadata": {
    "papermill": {
     "duration": 0.041116,
     "end_time": "2021-11-10T10:09:57.742986",
     "exception": false,
     "start_time": "2021-11-10T10:09:57.701870",
     "status": "completed"
    },
    "tags": []
   },
   "source": [
    "#### From above histogram, we can see that most numbers of customer are from SP (Sao Paul) state,followed by Rj (Rio de Janeiro) state."
   ]
  },
  {
   "cell_type": "code",
   "execution_count": 14,
   "metadata": {
    "execution": {
     "iopub.execute_input": "2021-11-10T10:09:57.835364Z",
     "iopub.status.busy": "2021-11-10T10:09:57.834714Z",
     "iopub.status.idle": "2021-11-10T10:09:57.843058Z",
     "shell.execute_reply": "2021-11-10T10:09:57.843576Z",
     "shell.execute_reply.started": "2021-09-21T07:44:17.83712Z"
    },
    "papermill": {
     "duration": 0.060459,
     "end_time": "2021-11-10T10:09:57.843750",
     "exception": false,
     "start_time": "2021-11-10T10:09:57.783291",
     "status": "completed"
    },
    "tags": []
   },
   "outputs": [
    {
     "data": {
      "text/plain": [
       "sao paulo                15540\n",
       "rio de janeiro            6882\n",
       "belo horizonte            2773\n",
       "brasilia                  2131\n",
       "curitiba                  1521\n",
       "campinas                  1444\n",
       "porto alegre              1379\n",
       "salvador                  1245\n",
       "guarulhos                 1189\n",
       "sao bernardo do campo      938\n",
       "Name: customer_city, dtype: int64"
      ]
     },
     "execution_count": 14,
     "metadata": {},
     "output_type": "execute_result"
    }
   ],
   "source": [
    "top_10_cities=customers['customer_city'].value_counts().nlargest(10)\n",
    "top_10_cities"
   ]
  },
  {
   "cell_type": "code",
   "execution_count": 15,
   "metadata": {
    "execution": {
     "iopub.execute_input": "2021-11-10T10:09:57.930698Z",
     "iopub.status.busy": "2021-11-10T10:09:57.930028Z",
     "iopub.status.idle": "2021-11-10T10:09:57.942580Z",
     "shell.execute_reply": "2021-11-10T10:09:57.943091Z",
     "shell.execute_reply.started": "2021-09-21T07:44:17.862308Z"
    },
    "papermill": {
     "duration": 0.057958,
     "end_time": "2021-11-10T10:09:57.943294",
     "exception": false,
     "start_time": "2021-11-10T10:09:57.885336",
     "status": "completed"
    },
    "tags": []
   },
   "outputs": [
    {
     "data": {
      "text/plain": [
       "eugenio de castro     1\n",
       "monteiropolis         1\n",
       "campo florido         1\n",
       "alto sao joao         1\n",
       "paulistania           1\n",
       "taquarana             1\n",
       "castanheiras          1\n",
       "humberto de campos    1\n",
       "nova brescia          1\n",
       "chaval                1\n",
       "curralinho            1\n",
       "tocos do moji         1\n",
       "marilac               1\n",
       "rio doce              1\n",
       "chiapetta             1\n",
       "tapera                1\n",
       "suzanapolis           1\n",
       "monte belo do sul     1\n",
       "lagoa do piaui        1\n",
       "riversul              1\n",
       "Name: customer_city, dtype: int64"
      ]
     },
     "execution_count": 15,
     "metadata": {},
     "output_type": "execute_result"
    }
   ],
   "source": [
    "cities=customers['customer_city'].value_counts(ascending=True)\n",
    "cities[0:20]"
   ]
  },
  {
   "cell_type": "markdown",
   "metadata": {
    "papermill": {
     "duration": 0.041079,
     "end_time": "2021-11-10T10:09:58.025834",
     "exception": false,
     "start_time": "2021-11-10T10:09:57.984755",
     "status": "completed"
    },
    "tags": []
   },
   "source": [
    "#### We can see that there are so many cites with count 1, they can be said to be city with least customers"
   ]
  },
  {
   "cell_type": "code",
   "execution_count": 16,
   "metadata": {
    "execution": {
     "iopub.execute_input": "2021-11-10T10:09:58.113432Z",
     "iopub.status.busy": "2021-11-10T10:09:58.112776Z",
     "iopub.status.idle": "2021-11-10T10:09:58.155177Z",
     "shell.execute_reply": "2021-11-10T10:09:58.154678Z",
     "shell.execute_reply.started": "2021-09-21T07:44:17.883269Z"
    },
    "papermill": {
     "duration": 0.087985,
     "end_time": "2021-11-10T10:09:58.155353",
     "exception": false,
     "start_time": "2021-11-10T10:09:58.067368",
     "status": "completed"
    },
    "tags": []
   },
   "outputs": [],
   "source": [
    "city_df=customers.groupby('customer_city').count()['customer_id'].reset_index()"
   ]
  },
  {
   "cell_type": "code",
   "execution_count": 1,
   "metadata": {},
   "outputs": [
    {
     "ename": "NameError",
     "evalue": "name 'city_df' is not defined",
     "output_type": "error",
     "traceback": [
      "\u001b[0;31m---------------------------------------------------------------------------\u001b[0m",
      "\u001b[0;31mNameError\u001b[0m                                 Traceback (most recent call last)",
      "\u001b[0;32m<ipython-input-1-905c16ffe536>\u001b[0m in \u001b[0;36m<module>\u001b[0;34m\u001b[0m\n\u001b[0;32m----> 1\u001b[0;31m \u001b[0mcity_df\u001b[0m\u001b[0;34m\u001b[0m\u001b[0;34m\u001b[0m\u001b[0m\n\u001b[0m",
      "\u001b[0;31mNameError\u001b[0m: name 'city_df' is not defined"
     ]
    }
   ],
   "source": [
    "city_df"
   ]
  },
  {
   "cell_type": "code",
   "execution_count": 17,
   "metadata": {
    "execution": {
     "iopub.execute_input": "2021-11-10T10:09:58.242492Z",
     "iopub.status.busy": "2021-11-10T10:09:58.241884Z",
     "iopub.status.idle": "2021-11-10T10:09:58.480868Z",
     "shell.execute_reply": "2021-11-10T10:09:58.481332Z",
     "shell.execute_reply.started": "2021-09-21T07:44:17.950796Z"
    },
    "papermill": {
     "duration": 0.285473,
     "end_time": "2021-11-10T10:09:58.481522",
     "exception": false,
     "start_time": "2021-11-10T10:09:58.196049",
     "status": "completed"
    },
    "tags": []
   },
   "outputs": [
    {
     "data": {
      "text/plain": [
       "Text(0, 0.5, 'Number of Customers')"
      ]
     },
     "execution_count": 17,
     "metadata": {},
     "output_type": "execute_result"
    },
    {
     "data": {
      "image/png": "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\n",
      "text/plain": [
       "<Figure size 432x288 with 1 Axes>"
      ]
     },
     "metadata": {
      "needs_background": "light"
     },
     "output_type": "display_data"
    }
   ],
   "source": [
    "sns.barplot(data = city_df.sort_values('customer_id', ascending = False).nlargest(10,'customer_id'), x = 'customer_id', \n",
    "            y = 'customer_city',)\n",
    "plt.title('Cities with the Most Customers')\n",
    "plt.xlabel('City')\n",
    "plt.ylabel('Number of Customers')"
   ]
  },
  {
   "cell_type": "markdown",
   "metadata": {
    "papermill": {
     "duration": 0.041959,
     "end_time": "2021-11-10T10:09:58.565450",
     "exception": false,
     "start_time": "2021-11-10T10:09:58.523491",
     "status": "completed"
    },
    "tags": []
   },
   "source": [
    "##### Again the city with most no of customers is Sao Paulo, followed by rio de janeiro"
   ]
  },
  {
   "cell_type": "markdown",
   "metadata": {
    "papermill": {
     "duration": 0.041623,
     "end_time": "2021-11-10T10:09:58.649013",
     "exception": false,
     "start_time": "2021-11-10T10:09:58.607390",
     "status": "completed"
    },
    "tags": []
   },
   "source": [
    "### Analyis of products and items"
   ]
  },
  {
   "cell_type": "code",
   "execution_count": 18,
   "metadata": {
    "execution": {
     "iopub.execute_input": "2021-11-10T10:09:58.746746Z",
     "iopub.status.busy": "2021-11-10T10:09:58.746077Z",
     "iopub.status.idle": "2021-11-10T10:09:58.755888Z",
     "shell.execute_reply": "2021-11-10T10:09:58.755246Z",
     "shell.execute_reply.started": "2021-09-21T07:44:18.199201Z"
    },
    "papermill": {
     "duration": 0.065017,
     "end_time": "2021-11-10T10:09:58.756035",
     "exception": false,
     "start_time": "2021-11-10T10:09:58.691018",
     "status": "completed"
    },
    "tags": []
   },
   "outputs": [
    {
     "data": {
      "text/html": [
       "<div>\n",
       "<style scoped>\n",
       "    .dataframe tbody tr th:only-of-type {\n",
       "        vertical-align: middle;\n",
       "    }\n",
       "\n",
       "    .dataframe tbody tr th {\n",
       "        vertical-align: top;\n",
       "    }\n",
       "\n",
       "    .dataframe thead th {\n",
       "        text-align: right;\n",
       "    }\n",
       "</style>\n",
       "<table border=\"1\" class=\"dataframe\">\n",
       "  <thead>\n",
       "    <tr style=\"text-align: right;\">\n",
       "      <th></th>\n",
       "      <th>product_id</th>\n",
       "      <th>product_category_name</th>\n",
       "      <th>product_name_lenght</th>\n",
       "      <th>product_description_lenght</th>\n",
       "      <th>product_photos_qty</th>\n",
       "      <th>product_weight_g</th>\n",
       "      <th>product_length_cm</th>\n",
       "      <th>product_height_cm</th>\n",
       "      <th>product_width_cm</th>\n",
       "    </tr>\n",
       "  </thead>\n",
       "  <tbody>\n",
       "    <tr>\n",
       "      <th>0</th>\n",
       "      <td>1e9e8ef04dbcff4541ed26657ea517e5</td>\n",
       "      <td>perfumaria</td>\n",
       "      <td>40.0</td>\n",
       "      <td>287.0</td>\n",
       "      <td>1.0</td>\n",
       "      <td>225.0</td>\n",
       "      <td>16.0</td>\n",
       "      <td>10.0</td>\n",
       "      <td>14.0</td>\n",
       "    </tr>\n",
       "    <tr>\n",
       "      <th>1</th>\n",
       "      <td>3aa071139cb16b67ca9e5dea641aaa2f</td>\n",
       "      <td>artes</td>\n",
       "      <td>44.0</td>\n",
       "      <td>276.0</td>\n",
       "      <td>1.0</td>\n",
       "      <td>1000.0</td>\n",
       "      <td>30.0</td>\n",
       "      <td>18.0</td>\n",
       "      <td>20.0</td>\n",
       "    </tr>\n",
       "    <tr>\n",
       "      <th>2</th>\n",
       "      <td>96bd76ec8810374ed1b65e291975717f</td>\n",
       "      <td>esporte_lazer</td>\n",
       "      <td>46.0</td>\n",
       "      <td>250.0</td>\n",
       "      <td>1.0</td>\n",
       "      <td>154.0</td>\n",
       "      <td>18.0</td>\n",
       "      <td>9.0</td>\n",
       "      <td>15.0</td>\n",
       "    </tr>\n",
       "    <tr>\n",
       "      <th>3</th>\n",
       "      <td>cef67bcfe19066a932b7673e239eb23d</td>\n",
       "      <td>bebes</td>\n",
       "      <td>27.0</td>\n",
       "      <td>261.0</td>\n",
       "      <td>1.0</td>\n",
       "      <td>371.0</td>\n",
       "      <td>26.0</td>\n",
       "      <td>4.0</td>\n",
       "      <td>26.0</td>\n",
       "    </tr>\n",
       "    <tr>\n",
       "      <th>4</th>\n",
       "      <td>9dc1a7de274444849c219cff195d0b71</td>\n",
       "      <td>utilidades_domesticas</td>\n",
       "      <td>37.0</td>\n",
       "      <td>402.0</td>\n",
       "      <td>4.0</td>\n",
       "      <td>625.0</td>\n",
       "      <td>20.0</td>\n",
       "      <td>17.0</td>\n",
       "      <td>13.0</td>\n",
       "    </tr>\n",
       "  </tbody>\n",
       "</table>\n",
       "</div>"
      ],
      "text/plain": [
       "                         product_id  product_category_name  \\\n",
       "0  1e9e8ef04dbcff4541ed26657ea517e5             perfumaria   \n",
       "1  3aa071139cb16b67ca9e5dea641aaa2f                  artes   \n",
       "2  96bd76ec8810374ed1b65e291975717f          esporte_lazer   \n",
       "3  cef67bcfe19066a932b7673e239eb23d                  bebes   \n",
       "4  9dc1a7de274444849c219cff195d0b71  utilidades_domesticas   \n",
       "\n",
       "   product_name_lenght  product_description_lenght  product_photos_qty  \\\n",
       "0                 40.0                       287.0                 1.0   \n",
       "1                 44.0                       276.0                 1.0   \n",
       "2                 46.0                       250.0                 1.0   \n",
       "3                 27.0                       261.0                 1.0   \n",
       "4                 37.0                       402.0                 4.0   \n",
       "\n",
       "   product_weight_g  product_length_cm  product_height_cm  product_width_cm  \n",
       "0             225.0               16.0               10.0              14.0  \n",
       "1            1000.0               30.0               18.0              20.0  \n",
       "2             154.0               18.0                9.0              15.0  \n",
       "3             371.0               26.0                4.0              26.0  \n",
       "4             625.0               20.0               17.0              13.0  "
      ]
     },
     "execution_count": 18,
     "metadata": {},
     "output_type": "execute_result"
    }
   ],
   "source": [
    "products.head()"
   ]
  },
  {
   "cell_type": "code",
   "execution_count": 19,
   "metadata": {
    "execution": {
     "iopub.execute_input": "2021-11-10T10:09:58.854202Z",
     "iopub.status.busy": "2021-11-10T10:09:58.853465Z",
     "iopub.status.idle": "2021-11-10T10:09:58.856104Z",
     "shell.execute_reply": "2021-11-10T10:09:58.856598Z",
     "shell.execute_reply.started": "2021-09-21T07:44:18.219537Z"
    },
    "papermill": {
     "duration": 0.057961,
     "end_time": "2021-11-10T10:09:58.856765",
     "exception": false,
     "start_time": "2021-11-10T10:09:58.798804",
     "status": "completed"
    },
    "tags": []
   },
   "outputs": [
    {
     "data": {
      "text/html": [
       "<div>\n",
       "<style scoped>\n",
       "    .dataframe tbody tr th:only-of-type {\n",
       "        vertical-align: middle;\n",
       "    }\n",
       "\n",
       "    .dataframe tbody tr th {\n",
       "        vertical-align: top;\n",
       "    }\n",
       "\n",
       "    .dataframe thead th {\n",
       "        text-align: right;\n",
       "    }\n",
       "</style>\n",
       "<table border=\"1\" class=\"dataframe\">\n",
       "  <thead>\n",
       "    <tr style=\"text-align: right;\">\n",
       "      <th></th>\n",
       "      <th>order_id</th>\n",
       "      <th>order_item_id</th>\n",
       "      <th>product_id</th>\n",
       "      <th>seller_id</th>\n",
       "      <th>shipping_limit_date</th>\n",
       "      <th>price</th>\n",
       "      <th>freight_value</th>\n",
       "    </tr>\n",
       "  </thead>\n",
       "  <tbody>\n",
       "    <tr>\n",
       "      <th>0</th>\n",
       "      <td>00010242fe8c5a6d1ba2dd792cb16214</td>\n",
       "      <td>1</td>\n",
       "      <td>4244733e06e7ecb4970a6e2683c13e61</td>\n",
       "      <td>48436dade18ac8b2bce089ec2a041202</td>\n",
       "      <td>2017-09-19 09:45:35</td>\n",
       "      <td>58.90</td>\n",
       "      <td>13.29</td>\n",
       "    </tr>\n",
       "    <tr>\n",
       "      <th>1</th>\n",
       "      <td>00018f77f2f0320c557190d7a144bdd3</td>\n",
       "      <td>1</td>\n",
       "      <td>e5f2d52b802189ee658865ca93d83a8f</td>\n",
       "      <td>dd7ddc04e1b6c2c614352b383efe2d36</td>\n",
       "      <td>2017-05-03 11:05:13</td>\n",
       "      <td>239.90</td>\n",
       "      <td>19.93</td>\n",
       "    </tr>\n",
       "    <tr>\n",
       "      <th>2</th>\n",
       "      <td>000229ec398224ef6ca0657da4fc703e</td>\n",
       "      <td>1</td>\n",
       "      <td>c777355d18b72b67abbeef9df44fd0fd</td>\n",
       "      <td>5b51032eddd242adc84c38acab88f23d</td>\n",
       "      <td>2018-01-18 14:48:30</td>\n",
       "      <td>199.00</td>\n",
       "      <td>17.87</td>\n",
       "    </tr>\n",
       "    <tr>\n",
       "      <th>3</th>\n",
       "      <td>00024acbcdf0a6daa1e931b038114c75</td>\n",
       "      <td>1</td>\n",
       "      <td>7634da152a4610f1595efa32f14722fc</td>\n",
       "      <td>9d7a1d34a5052409006425275ba1c2b4</td>\n",
       "      <td>2018-08-15 10:10:18</td>\n",
       "      <td>12.99</td>\n",
       "      <td>12.79</td>\n",
       "    </tr>\n",
       "    <tr>\n",
       "      <th>4</th>\n",
       "      <td>00042b26cf59d7ce69dfabb4e55b4fd9</td>\n",
       "      <td>1</td>\n",
       "      <td>ac6c3623068f30de03045865e4e10089</td>\n",
       "      <td>df560393f3a51e74553ab94004ba5c87</td>\n",
       "      <td>2017-02-13 13:57:51</td>\n",
       "      <td>199.90</td>\n",
       "      <td>18.14</td>\n",
       "    </tr>\n",
       "  </tbody>\n",
       "</table>\n",
       "</div>"
      ],
      "text/plain": [
       "                           order_id  order_item_id  \\\n",
       "0  00010242fe8c5a6d1ba2dd792cb16214              1   \n",
       "1  00018f77f2f0320c557190d7a144bdd3              1   \n",
       "2  000229ec398224ef6ca0657da4fc703e              1   \n",
       "3  00024acbcdf0a6daa1e931b038114c75              1   \n",
       "4  00042b26cf59d7ce69dfabb4e55b4fd9              1   \n",
       "\n",
       "                         product_id                         seller_id  \\\n",
       "0  4244733e06e7ecb4970a6e2683c13e61  48436dade18ac8b2bce089ec2a041202   \n",
       "1  e5f2d52b802189ee658865ca93d83a8f  dd7ddc04e1b6c2c614352b383efe2d36   \n",
       "2  c777355d18b72b67abbeef9df44fd0fd  5b51032eddd242adc84c38acab88f23d   \n",
       "3  7634da152a4610f1595efa32f14722fc  9d7a1d34a5052409006425275ba1c2b4   \n",
       "4  ac6c3623068f30de03045865e4e10089  df560393f3a51e74553ab94004ba5c87   \n",
       "\n",
       "   shipping_limit_date   price  freight_value  \n",
       "0  2017-09-19 09:45:35   58.90          13.29  \n",
       "1  2017-05-03 11:05:13  239.90          19.93  \n",
       "2  2018-01-18 14:48:30  199.00          17.87  \n",
       "3  2018-08-15 10:10:18   12.99          12.79  \n",
       "4  2017-02-13 13:57:51  199.90          18.14  "
      ]
     },
     "execution_count": 19,
     "metadata": {},
     "output_type": "execute_result"
    }
   ],
   "source": [
    "order_items.head()"
   ]
  },
  {
   "cell_type": "markdown",
   "metadata": {
    "papermill": {
     "duration": 0.044059,
     "end_time": "2021-11-10T10:09:58.944408",
     "exception": false,
     "start_time": "2021-11-10T10:09:58.900349",
     "status": "completed"
    },
    "tags": []
   },
   "source": [
    "#### From above two datasets, we can see that we can 'inner join' these datasets on products id, Lets see"
   ]
  },
  {
   "cell_type": "code",
   "execution_count": 20,
   "metadata": {
    "execution": {
     "iopub.execute_input": "2021-11-10T10:09:59.037109Z",
     "iopub.status.busy": "2021-11-10T10:09:59.032857Z",
     "iopub.status.idle": "2021-11-10T10:09:59.125490Z",
     "shell.execute_reply": "2021-11-10T10:09:59.124758Z",
     "shell.execute_reply.started": "2021-09-21T07:44:18.241912Z"
    },
    "papermill": {
     "duration": 0.138665,
     "end_time": "2021-11-10T10:09:59.125647",
     "exception": false,
     "start_time": "2021-11-10T10:09:58.986982",
     "status": "completed"
    },
    "tags": []
   },
   "outputs": [],
   "source": [
    "products_and_order_items_df=pd.merge(order_items,products)"
   ]
  },
  {
   "cell_type": "code",
   "execution_count": 21,
   "metadata": {
    "execution": {
     "iopub.execute_input": "2021-11-10T10:09:59.232250Z",
     "iopub.status.busy": "2021-11-10T10:09:59.231261Z",
     "iopub.status.idle": "2021-11-10T10:09:59.234764Z",
     "shell.execute_reply": "2021-11-10T10:09:59.235244Z",
     "shell.execute_reply.started": "2021-09-21T07:44:18.335126Z"
    },
    "papermill": {
     "duration": 0.06605,
     "end_time": "2021-11-10T10:09:59.235420",
     "exception": false,
     "start_time": "2021-11-10T10:09:59.169370",
     "status": "completed"
    },
    "tags": []
   },
   "outputs": [
    {
     "data": {
      "text/html": [
       "<div>\n",
       "<style scoped>\n",
       "    .dataframe tbody tr th:only-of-type {\n",
       "        vertical-align: middle;\n",
       "    }\n",
       "\n",
       "    .dataframe tbody tr th {\n",
       "        vertical-align: top;\n",
       "    }\n",
       "\n",
       "    .dataframe thead th {\n",
       "        text-align: right;\n",
       "    }\n",
       "</style>\n",
       "<table border=\"1\" class=\"dataframe\">\n",
       "  <thead>\n",
       "    <tr style=\"text-align: right;\">\n",
       "      <th></th>\n",
       "      <th>order_id</th>\n",
       "      <th>order_item_id</th>\n",
       "      <th>product_id</th>\n",
       "      <th>seller_id</th>\n",
       "      <th>shipping_limit_date</th>\n",
       "      <th>price</th>\n",
       "      <th>freight_value</th>\n",
       "      <th>product_category_name</th>\n",
       "      <th>product_name_lenght</th>\n",
       "      <th>product_description_lenght</th>\n",
       "      <th>product_photos_qty</th>\n",
       "      <th>product_weight_g</th>\n",
       "      <th>product_length_cm</th>\n",
       "      <th>product_height_cm</th>\n",
       "      <th>product_width_cm</th>\n",
       "    </tr>\n",
       "  </thead>\n",
       "  <tbody>\n",
       "    <tr>\n",
       "      <th>0</th>\n",
       "      <td>00010242fe8c5a6d1ba2dd792cb16214</td>\n",
       "      <td>1</td>\n",
       "      <td>4244733e06e7ecb4970a6e2683c13e61</td>\n",
       "      <td>48436dade18ac8b2bce089ec2a041202</td>\n",
       "      <td>2017-09-19 09:45:35</td>\n",
       "      <td>58.9</td>\n",
       "      <td>13.29</td>\n",
       "      <td>cool_stuff</td>\n",
       "      <td>58.0</td>\n",
       "      <td>598.0</td>\n",
       "      <td>4.0</td>\n",
       "      <td>650.0</td>\n",
       "      <td>28.0</td>\n",
       "      <td>9.0</td>\n",
       "      <td>14.0</td>\n",
       "    </tr>\n",
       "    <tr>\n",
       "      <th>1</th>\n",
       "      <td>130898c0987d1801452a8ed92a670612</td>\n",
       "      <td>1</td>\n",
       "      <td>4244733e06e7ecb4970a6e2683c13e61</td>\n",
       "      <td>48436dade18ac8b2bce089ec2a041202</td>\n",
       "      <td>2017-07-05 02:44:11</td>\n",
       "      <td>55.9</td>\n",
       "      <td>17.96</td>\n",
       "      <td>cool_stuff</td>\n",
       "      <td>58.0</td>\n",
       "      <td>598.0</td>\n",
       "      <td>4.0</td>\n",
       "      <td>650.0</td>\n",
       "      <td>28.0</td>\n",
       "      <td>9.0</td>\n",
       "      <td>14.0</td>\n",
       "    </tr>\n",
       "    <tr>\n",
       "      <th>2</th>\n",
       "      <td>532ed5e14e24ae1f0d735b91524b98b9</td>\n",
       "      <td>1</td>\n",
       "      <td>4244733e06e7ecb4970a6e2683c13e61</td>\n",
       "      <td>48436dade18ac8b2bce089ec2a041202</td>\n",
       "      <td>2018-05-23 10:56:25</td>\n",
       "      <td>64.9</td>\n",
       "      <td>18.33</td>\n",
       "      <td>cool_stuff</td>\n",
       "      <td>58.0</td>\n",
       "      <td>598.0</td>\n",
       "      <td>4.0</td>\n",
       "      <td>650.0</td>\n",
       "      <td>28.0</td>\n",
       "      <td>9.0</td>\n",
       "      <td>14.0</td>\n",
       "    </tr>\n",
       "    <tr>\n",
       "      <th>3</th>\n",
       "      <td>6f8c31653edb8c83e1a739408b5ff750</td>\n",
       "      <td>1</td>\n",
       "      <td>4244733e06e7ecb4970a6e2683c13e61</td>\n",
       "      <td>48436dade18ac8b2bce089ec2a041202</td>\n",
       "      <td>2017-08-07 18:55:08</td>\n",
       "      <td>58.9</td>\n",
       "      <td>16.17</td>\n",
       "      <td>cool_stuff</td>\n",
       "      <td>58.0</td>\n",
       "      <td>598.0</td>\n",
       "      <td>4.0</td>\n",
       "      <td>650.0</td>\n",
       "      <td>28.0</td>\n",
       "      <td>9.0</td>\n",
       "      <td>14.0</td>\n",
       "    </tr>\n",
       "    <tr>\n",
       "      <th>4</th>\n",
       "      <td>7d19f4ef4d04461989632411b7e588b9</td>\n",
       "      <td>1</td>\n",
       "      <td>4244733e06e7ecb4970a6e2683c13e61</td>\n",
       "      <td>48436dade18ac8b2bce089ec2a041202</td>\n",
       "      <td>2017-08-16 22:05:11</td>\n",
       "      <td>58.9</td>\n",
       "      <td>13.29</td>\n",
       "      <td>cool_stuff</td>\n",
       "      <td>58.0</td>\n",
       "      <td>598.0</td>\n",
       "      <td>4.0</td>\n",
       "      <td>650.0</td>\n",
       "      <td>28.0</td>\n",
       "      <td>9.0</td>\n",
       "      <td>14.0</td>\n",
       "    </tr>\n",
       "  </tbody>\n",
       "</table>\n",
       "</div>"
      ],
      "text/plain": [
       "                           order_id  order_item_id  \\\n",
       "0  00010242fe8c5a6d1ba2dd792cb16214              1   \n",
       "1  130898c0987d1801452a8ed92a670612              1   \n",
       "2  532ed5e14e24ae1f0d735b91524b98b9              1   \n",
       "3  6f8c31653edb8c83e1a739408b5ff750              1   \n",
       "4  7d19f4ef4d04461989632411b7e588b9              1   \n",
       "\n",
       "                         product_id                         seller_id  \\\n",
       "0  4244733e06e7ecb4970a6e2683c13e61  48436dade18ac8b2bce089ec2a041202   \n",
       "1  4244733e06e7ecb4970a6e2683c13e61  48436dade18ac8b2bce089ec2a041202   \n",
       "2  4244733e06e7ecb4970a6e2683c13e61  48436dade18ac8b2bce089ec2a041202   \n",
       "3  4244733e06e7ecb4970a6e2683c13e61  48436dade18ac8b2bce089ec2a041202   \n",
       "4  4244733e06e7ecb4970a6e2683c13e61  48436dade18ac8b2bce089ec2a041202   \n",
       "\n",
       "   shipping_limit_date  price  freight_value product_category_name  \\\n",
       "0  2017-09-19 09:45:35   58.9          13.29            cool_stuff   \n",
       "1  2017-07-05 02:44:11   55.9          17.96            cool_stuff   \n",
       "2  2018-05-23 10:56:25   64.9          18.33            cool_stuff   \n",
       "3  2017-08-07 18:55:08   58.9          16.17            cool_stuff   \n",
       "4  2017-08-16 22:05:11   58.9          13.29            cool_stuff   \n",
       "\n",
       "   product_name_lenght  product_description_lenght  product_photos_qty  \\\n",
       "0                 58.0                       598.0                 4.0   \n",
       "1                 58.0                       598.0                 4.0   \n",
       "2                 58.0                       598.0                 4.0   \n",
       "3                 58.0                       598.0                 4.0   \n",
       "4                 58.0                       598.0                 4.0   \n",
       "\n",
       "   product_weight_g  product_length_cm  product_height_cm  product_width_cm  \n",
       "0             650.0               28.0                9.0              14.0  \n",
       "1             650.0               28.0                9.0              14.0  \n",
       "2             650.0               28.0                9.0              14.0  \n",
       "3             650.0               28.0                9.0              14.0  \n",
       "4             650.0               28.0                9.0              14.0  "
      ]
     },
     "execution_count": 21,
     "metadata": {},
     "output_type": "execute_result"
    }
   ],
   "source": [
    "products_and_order_items_df.head()"
   ]
  },
  {
   "cell_type": "code",
   "execution_count": 22,
   "metadata": {
    "execution": {
     "iopub.execute_input": "2021-11-10T10:09:59.325982Z",
     "iopub.status.busy": "2021-11-10T10:09:59.325021Z",
     "iopub.status.idle": "2021-11-10T10:09:59.337210Z",
     "shell.execute_reply": "2021-11-10T10:09:59.337656Z",
     "shell.execute_reply.started": "2021-09-21T07:44:18.359688Z"
    },
    "papermill": {
     "duration": 0.059259,
     "end_time": "2021-11-10T10:09:59.337833",
     "exception": false,
     "start_time": "2021-11-10T10:09:59.278574",
     "status": "completed"
    },
    "tags": []
   },
   "outputs": [],
   "source": [
    "top_10_products=products_and_order_items_df['product_category_name'].value_counts().reset_index().nlargest(10, 'product_category_name')"
   ]
  },
  {
   "cell_type": "code",
   "execution_count": 23,
   "metadata": {
    "execution": {
     "iopub.execute_input": "2021-11-10T10:09:59.429707Z",
     "iopub.status.busy": "2021-11-10T10:09:59.428790Z",
     "iopub.status.idle": "2021-11-10T10:09:59.440325Z",
     "shell.execute_reply": "2021-11-10T10:09:59.440802Z",
     "shell.execute_reply.started": "2021-09-21T07:44:18.388258Z"
    },
    "papermill": {
     "duration": 0.059621,
     "end_time": "2021-11-10T10:09:59.440973",
     "exception": false,
     "start_time": "2021-11-10T10:09:59.381352",
     "status": "completed"
    },
    "tags": []
   },
   "outputs": [],
   "source": [
    "lowest_10_products=products_and_order_items_df['product_category_name'].value_counts().reset_index().nsmallest(10, 'product_category_name')"
   ]
  },
  {
   "cell_type": "code",
   "execution_count": 24,
   "metadata": {
    "execution": {
     "iopub.execute_input": "2021-11-10T10:09:59.531717Z",
     "iopub.status.busy": "2021-11-10T10:09:59.530749Z",
     "iopub.status.idle": "2021-11-10T10:09:59.540878Z",
     "shell.execute_reply": "2021-11-10T10:09:59.540263Z",
     "shell.execute_reply.started": "2021-09-21T07:44:18.417055Z"
    },
    "papermill": {
     "duration": 0.056663,
     "end_time": "2021-11-10T10:09:59.541013",
     "exception": false,
     "start_time": "2021-11-10T10:09:59.484350",
     "status": "completed"
    },
    "tags": []
   },
   "outputs": [
    {
     "data": {
      "text/html": [
       "<div>\n",
       "<style scoped>\n",
       "    .dataframe tbody tr th:only-of-type {\n",
       "        vertical-align: middle;\n",
       "    }\n",
       "\n",
       "    .dataframe tbody tr th {\n",
       "        vertical-align: top;\n",
       "    }\n",
       "\n",
       "    .dataframe thead th {\n",
       "        text-align: right;\n",
       "    }\n",
       "</style>\n",
       "<table border=\"1\" class=\"dataframe\">\n",
       "  <thead>\n",
       "    <tr style=\"text-align: right;\">\n",
       "      <th></th>\n",
       "      <th>index</th>\n",
       "      <th>product_category_name</th>\n",
       "    </tr>\n",
       "  </thead>\n",
       "  <tbody>\n",
       "    <tr>\n",
       "      <th>0</th>\n",
       "      <td>cama_mesa_banho</td>\n",
       "      <td>11115</td>\n",
       "    </tr>\n",
       "    <tr>\n",
       "      <th>1</th>\n",
       "      <td>beleza_saude</td>\n",
       "      <td>9670</td>\n",
       "    </tr>\n",
       "    <tr>\n",
       "      <th>2</th>\n",
       "      <td>esporte_lazer</td>\n",
       "      <td>8641</td>\n",
       "    </tr>\n",
       "    <tr>\n",
       "      <th>3</th>\n",
       "      <td>moveis_decoracao</td>\n",
       "      <td>8334</td>\n",
       "    </tr>\n",
       "    <tr>\n",
       "      <th>4</th>\n",
       "      <td>informatica_acessorios</td>\n",
       "      <td>7827</td>\n",
       "    </tr>\n",
       "    <tr>\n",
       "      <th>5</th>\n",
       "      <td>utilidades_domesticas</td>\n",
       "      <td>6964</td>\n",
       "    </tr>\n",
       "    <tr>\n",
       "      <th>6</th>\n",
       "      <td>relogios_presentes</td>\n",
       "      <td>5991</td>\n",
       "    </tr>\n",
       "    <tr>\n",
       "      <th>7</th>\n",
       "      <td>telefonia</td>\n",
       "      <td>4545</td>\n",
       "    </tr>\n",
       "    <tr>\n",
       "      <th>8</th>\n",
       "      <td>ferramentas_jardim</td>\n",
       "      <td>4347</td>\n",
       "    </tr>\n",
       "    <tr>\n",
       "      <th>9</th>\n",
       "      <td>automotivo</td>\n",
       "      <td>4235</td>\n",
       "    </tr>\n",
       "  </tbody>\n",
       "</table>\n",
       "</div>"
      ],
      "text/plain": [
       "                    index  product_category_name\n",
       "0         cama_mesa_banho                  11115\n",
       "1            beleza_saude                   9670\n",
       "2           esporte_lazer                   8641\n",
       "3        moveis_decoracao                   8334\n",
       "4  informatica_acessorios                   7827\n",
       "5   utilidades_domesticas                   6964\n",
       "6      relogios_presentes                   5991\n",
       "7               telefonia                   4545\n",
       "8      ferramentas_jardim                   4347\n",
       "9              automotivo                   4235"
      ]
     },
     "execution_count": 24,
     "metadata": {},
     "output_type": "execute_result"
    }
   ],
   "source": [
    "top_10_products"
   ]
  },
  {
   "cell_type": "code",
   "execution_count": 25,
   "metadata": {
    "execution": {
     "iopub.execute_input": "2021-11-10T10:09:59.637655Z",
     "iopub.status.busy": "2021-11-10T10:09:59.631538Z",
     "iopub.status.idle": "2021-11-10T10:09:59.641830Z",
     "shell.execute_reply": "2021-11-10T10:09:59.641164Z",
     "shell.execute_reply.started": "2021-09-21T07:44:18.430379Z"
    },
    "papermill": {
     "duration": 0.05711,
     "end_time": "2021-11-10T10:09:59.641973",
     "exception": false,
     "start_time": "2021-11-10T10:09:59.584863",
     "status": "completed"
    },
    "tags": []
   },
   "outputs": [
    {
     "data": {
      "text/html": [
       "<div>\n",
       "<style scoped>\n",
       "    .dataframe tbody tr th:only-of-type {\n",
       "        vertical-align: middle;\n",
       "    }\n",
       "\n",
       "    .dataframe tbody tr th {\n",
       "        vertical-align: top;\n",
       "    }\n",
       "\n",
       "    .dataframe thead th {\n",
       "        text-align: right;\n",
       "    }\n",
       "</style>\n",
       "<table border=\"1\" class=\"dataframe\">\n",
       "  <thead>\n",
       "    <tr style=\"text-align: right;\">\n",
       "      <th></th>\n",
       "      <th>index</th>\n",
       "      <th>product_category_name</th>\n",
       "    </tr>\n",
       "  </thead>\n",
       "  <tbody>\n",
       "    <tr>\n",
       "      <th>72</th>\n",
       "      <td>seguros_e_servicos</td>\n",
       "      <td>2</td>\n",
       "    </tr>\n",
       "    <tr>\n",
       "      <th>71</th>\n",
       "      <td>fashion_roupa_infanto_juvenil</td>\n",
       "      <td>8</td>\n",
       "    </tr>\n",
       "    <tr>\n",
       "      <th>70</th>\n",
       "      <td>pc_gamer</td>\n",
       "      <td>9</td>\n",
       "    </tr>\n",
       "    <tr>\n",
       "      <th>68</th>\n",
       "      <td>cds_dvds_musicais</td>\n",
       "      <td>14</td>\n",
       "    </tr>\n",
       "    <tr>\n",
       "      <th>69</th>\n",
       "      <td>la_cuisine</td>\n",
       "      <td>14</td>\n",
       "    </tr>\n",
       "    <tr>\n",
       "      <th>67</th>\n",
       "      <td>portateis_cozinha_e_preparadores_de_alimentos</td>\n",
       "      <td>15</td>\n",
       "    </tr>\n",
       "    <tr>\n",
       "      <th>66</th>\n",
       "      <td>artes_e_artesanato</td>\n",
       "      <td>24</td>\n",
       "    </tr>\n",
       "    <tr>\n",
       "      <th>64</th>\n",
       "      <td>casa_conforto_2</td>\n",
       "      <td>30</td>\n",
       "    </tr>\n",
       "    <tr>\n",
       "      <th>65</th>\n",
       "      <td>fashion_esporte</td>\n",
       "      <td>30</td>\n",
       "    </tr>\n",
       "    <tr>\n",
       "      <th>63</th>\n",
       "      <td>flores</td>\n",
       "      <td>33</td>\n",
       "    </tr>\n",
       "  </tbody>\n",
       "</table>\n",
       "</div>"
      ],
      "text/plain": [
       "                                            index  product_category_name\n",
       "72                             seguros_e_servicos                      2\n",
       "71                  fashion_roupa_infanto_juvenil                      8\n",
       "70                                       pc_gamer                      9\n",
       "68                              cds_dvds_musicais                     14\n",
       "69                                     la_cuisine                     14\n",
       "67  portateis_cozinha_e_preparadores_de_alimentos                     15\n",
       "66                             artes_e_artesanato                     24\n",
       "64                                casa_conforto_2                     30\n",
       "65                                fashion_esporte                     30\n",
       "63                                         flores                     33"
      ]
     },
     "execution_count": 25,
     "metadata": {},
     "output_type": "execute_result"
    }
   ],
   "source": [
    "lowest_10_products"
   ]
  },
  {
   "cell_type": "markdown",
   "metadata": {
    "papermill": {
     "duration": 0.043925,
     "end_time": "2021-11-10T10:09:59.730560",
     "exception": false,
     "start_time": "2021-11-10T10:09:59.686635",
     "status": "completed"
    },
    "tags": []
   },
   "source": [
    "### Payments Analysis"
   ]
  },
  {
   "cell_type": "code",
   "execution_count": 26,
   "metadata": {
    "execution": {
     "iopub.execute_input": "2021-11-10T10:09:59.832938Z",
     "iopub.status.busy": "2021-11-10T10:09:59.831937Z",
     "iopub.status.idle": "2021-11-10T10:09:59.836529Z",
     "shell.execute_reply": "2021-11-10T10:09:59.835890Z",
     "shell.execute_reply.started": "2021-09-21T07:44:18.444837Z"
    },
    "papermill": {
     "duration": 0.060274,
     "end_time": "2021-11-10T10:09:59.836689",
     "exception": false,
     "start_time": "2021-11-10T10:09:59.776415",
     "status": "completed"
    },
    "tags": []
   },
   "outputs": [
    {
     "data": {
      "text/html": [
       "<div>\n",
       "<style scoped>\n",
       "    .dataframe tbody tr th:only-of-type {\n",
       "        vertical-align: middle;\n",
       "    }\n",
       "\n",
       "    .dataframe tbody tr th {\n",
       "        vertical-align: top;\n",
       "    }\n",
       "\n",
       "    .dataframe thead th {\n",
       "        text-align: right;\n",
       "    }\n",
       "</style>\n",
       "<table border=\"1\" class=\"dataframe\">\n",
       "  <thead>\n",
       "    <tr style=\"text-align: right;\">\n",
       "      <th></th>\n",
       "      <th>order_id</th>\n",
       "      <th>payment_sequential</th>\n",
       "      <th>payment_type</th>\n",
       "      <th>payment_installments</th>\n",
       "      <th>payment_value</th>\n",
       "    </tr>\n",
       "  </thead>\n",
       "  <tbody>\n",
       "    <tr>\n",
       "      <th>0</th>\n",
       "      <td>b81ef226f3fe1789b1e8b2acac839d17</td>\n",
       "      <td>1</td>\n",
       "      <td>credit_card</td>\n",
       "      <td>8</td>\n",
       "      <td>99.33</td>\n",
       "    </tr>\n",
       "    <tr>\n",
       "      <th>1</th>\n",
       "      <td>a9810da82917af2d9aefd1278f1dcfa0</td>\n",
       "      <td>1</td>\n",
       "      <td>credit_card</td>\n",
       "      <td>1</td>\n",
       "      <td>24.39</td>\n",
       "    </tr>\n",
       "    <tr>\n",
       "      <th>2</th>\n",
       "      <td>25e8ea4e93396b6fa0d3dd708e76c1bd</td>\n",
       "      <td>1</td>\n",
       "      <td>credit_card</td>\n",
       "      <td>1</td>\n",
       "      <td>65.71</td>\n",
       "    </tr>\n",
       "    <tr>\n",
       "      <th>3</th>\n",
       "      <td>ba78997921bbcdc1373bb41e913ab953</td>\n",
       "      <td>1</td>\n",
       "      <td>credit_card</td>\n",
       "      <td>8</td>\n",
       "      <td>107.78</td>\n",
       "    </tr>\n",
       "    <tr>\n",
       "      <th>4</th>\n",
       "      <td>42fdf880ba16b47b59251dd489d4441a</td>\n",
       "      <td>1</td>\n",
       "      <td>credit_card</td>\n",
       "      <td>2</td>\n",
       "      <td>128.45</td>\n",
       "    </tr>\n",
       "  </tbody>\n",
       "</table>\n",
       "</div>"
      ],
      "text/plain": [
       "                           order_id  payment_sequential payment_type  \\\n",
       "0  b81ef226f3fe1789b1e8b2acac839d17                   1  credit_card   \n",
       "1  a9810da82917af2d9aefd1278f1dcfa0                   1  credit_card   \n",
       "2  25e8ea4e93396b6fa0d3dd708e76c1bd                   1  credit_card   \n",
       "3  ba78997921bbcdc1373bb41e913ab953                   1  credit_card   \n",
       "4  42fdf880ba16b47b59251dd489d4441a                   1  credit_card   \n",
       "\n",
       "   payment_installments  payment_value  \n",
       "0                     8          99.33  \n",
       "1                     1          24.39  \n",
       "2                     1          65.71  \n",
       "3                     8         107.78  \n",
       "4                     2         128.45  "
      ]
     },
     "execution_count": 26,
     "metadata": {},
     "output_type": "execute_result"
    }
   ],
   "source": [
    "payments.head()"
   ]
  },
  {
   "cell_type": "code",
   "execution_count": 27,
   "metadata": {
    "execution": {
     "iopub.execute_input": "2021-11-10T10:09:59.931049Z",
     "iopub.status.busy": "2021-11-10T10:09:59.930335Z",
     "iopub.status.idle": "2021-11-10T10:09:59.942942Z",
     "shell.execute_reply": "2021-11-10T10:09:59.943471Z",
     "shell.execute_reply.started": "2021-09-21T07:44:18.458202Z"
    },
    "papermill": {
     "duration": 0.061309,
     "end_time": "2021-11-10T10:09:59.943689",
     "exception": false,
     "start_time": "2021-11-10T10:09:59.882380",
     "status": "completed"
    },
    "tags": []
   },
   "outputs": [
    {
     "data": {
      "text/plain": [
       "array(['credit_card', 'boleto', 'voucher', 'debit_card', 'not_defined'],\n",
       "      dtype=object)"
      ]
     },
     "execution_count": 27,
     "metadata": {},
     "output_type": "execute_result"
    }
   ],
   "source": [
    "payments.payment_type.unique()"
   ]
  },
  {
   "cell_type": "markdown",
   "metadata": {
    "papermill": {
     "duration": 0.045948,
     "end_time": "2021-11-10T10:10:00.035378",
     "exception": false,
     "start_time": "2021-11-10T10:09:59.989430",
     "status": "completed"
    },
    "tags": []
   },
   "source": [
    "#### There are bascially 5 types of payment methods used by the customers"
   ]
  },
  {
   "cell_type": "code",
   "execution_count": 28,
   "metadata": {
    "execution": {
     "iopub.execute_input": "2021-11-10T10:10:00.128244Z",
     "iopub.status.busy": "2021-11-10T10:10:00.127648Z",
     "iopub.status.idle": "2021-11-10T10:10:00.137461Z",
     "shell.execute_reply": "2021-11-10T10:10:00.137966Z",
     "shell.execute_reply.started": "2021-09-21T07:44:18.477161Z"
    },
    "papermill": {
     "duration": 0.057742,
     "end_time": "2021-11-10T10:10:00.138143",
     "exception": false,
     "start_time": "2021-11-10T10:10:00.080401",
     "status": "completed"
    },
    "tags": []
   },
   "outputs": [],
   "source": [
    "top_payment_type = payments['payment_type'].value_counts(ascending=False)"
   ]
  },
  {
   "cell_type": "code",
   "execution_count": 29,
   "metadata": {
    "execution": {
     "iopub.execute_input": "2021-11-10T10:10:00.232259Z",
     "iopub.status.busy": "2021-11-10T10:10:00.231563Z",
     "iopub.status.idle": "2021-11-10T10:10:00.237494Z",
     "shell.execute_reply": "2021-11-10T10:10:00.237988Z",
     "shell.execute_reply.started": "2021-09-21T07:44:18.496597Z"
    },
    "papermill": {
     "duration": 0.054444,
     "end_time": "2021-11-10T10:10:00.238164",
     "exception": false,
     "start_time": "2021-11-10T10:10:00.183720",
     "status": "completed"
    },
    "tags": []
   },
   "outputs": [
    {
     "data": {
      "text/plain": [
       "credit_card    76795\n",
       "boleto         19784\n",
       "voucher         5775\n",
       "debit_card      1529\n",
       "not_defined        3\n",
       "Name: payment_type, dtype: int64"
      ]
     },
     "execution_count": 29,
     "metadata": {},
     "output_type": "execute_result"
    }
   ],
   "source": [
    "top_payment_type"
   ]
  },
  {
   "cell_type": "markdown",
   "metadata": {
    "papermill": {
     "duration": 0.044988,
     "end_time": "2021-11-10T10:10:00.329552",
     "exception": false,
     "start_time": "2021-11-10T10:10:00.284564",
     "status": "completed"
    },
    "tags": []
   },
   "source": [
    "#### Out of 5 types of methods, credit card is used on the top, then boleto and then voucher"
   ]
  },
  {
   "cell_type": "code",
   "execution_count": 30,
   "metadata": {
    "execution": {
     "iopub.execute_input": "2021-11-10T10:10:00.423660Z",
     "iopub.status.busy": "2021-11-10T10:10:00.422977Z",
     "iopub.status.idle": "2021-11-10T10:10:00.427152Z",
     "shell.execute_reply": "2021-11-10T10:10:00.427659Z",
     "shell.execute_reply.started": "2021-09-21T07:44:18.508933Z"
    },
    "papermill": {
     "duration": 0.052885,
     "end_time": "2021-11-10T10:10:00.427839",
     "exception": false,
     "start_time": "2021-11-10T10:10:00.374954",
     "status": "completed"
    },
    "tags": []
   },
   "outputs": [
    {
     "data": {
      "text/plain": [
       "pandas.core.series.Series"
      ]
     },
     "execution_count": 30,
     "metadata": {},
     "output_type": "execute_result"
    }
   ],
   "source": [
    "type(top_payment_type)"
   ]
  },
  {
   "cell_type": "markdown",
   "metadata": {
    "papermill": {
     "duration": 0.045858,
     "end_time": "2021-11-10T10:10:00.520032",
     "exception": false,
     "start_time": "2021-11-10T10:10:00.474174",
     "status": "completed"
    },
    "tags": []
   },
   "source": [
    "#### Since this is a series object we can draw a histplot using its index and values"
   ]
  },
  {
   "cell_type": "code",
   "execution_count": 31,
   "metadata": {
    "execution": {
     "iopub.execute_input": "2021-11-10T10:10:00.614533Z",
     "iopub.status.busy": "2021-11-10T10:10:00.613909Z",
     "iopub.status.idle": "2021-11-10T10:10:00.617612Z",
     "shell.execute_reply": "2021-11-10T10:10:00.618138Z",
     "shell.execute_reply.started": "2021-09-21T07:44:18.521109Z"
    },
    "papermill": {
     "duration": 0.052262,
     "end_time": "2021-11-10T10:10:00.618329",
     "exception": false,
     "start_time": "2021-11-10T10:10:00.566067",
     "status": "completed"
    },
    "tags": []
   },
   "outputs": [],
   "source": [
    "a = top_payment_type.index"
   ]
  },
  {
   "cell_type": "code",
   "execution_count": 32,
   "metadata": {
    "execution": {
     "iopub.execute_input": "2021-11-10T10:10:00.713680Z",
     "iopub.status.busy": "2021-11-10T10:10:00.713035Z",
     "iopub.status.idle": "2021-11-10T10:10:00.716083Z",
     "shell.execute_reply": "2021-11-10T10:10:00.716584Z",
     "shell.execute_reply.started": "2021-09-21T07:44:18.531779Z"
    },
    "papermill": {
     "duration": 0.051632,
     "end_time": "2021-11-10T10:10:00.716754",
     "exception": false,
     "start_time": "2021-11-10T10:10:00.665122",
     "status": "completed"
    },
    "tags": []
   },
   "outputs": [],
   "source": [
    "b = top_payment_type.values"
   ]
  },
  {
   "cell_type": "code",
   "execution_count": 33,
   "metadata": {
    "execution": {
     "iopub.execute_input": "2021-11-10T10:10:00.811478Z",
     "iopub.status.busy": "2021-11-10T10:10:00.810871Z",
     "iopub.status.idle": "2021-11-10T10:10:00.987365Z",
     "shell.execute_reply": "2021-11-10T10:10:00.986738Z",
     "shell.execute_reply.started": "2021-09-21T07:44:18.5439Z"
    },
    "papermill": {
     "duration": 0.224399,
     "end_time": "2021-11-10T10:10:00.987513",
     "exception": false,
     "start_time": "2021-11-10T10:10:00.763114",
     "status": "completed"
    },
    "tags": []
   },
   "outputs": [
    {
     "data": {
      "text/plain": [
       "<AxesSubplot:>"
      ]
     },
     "execution_count": 33,
     "metadata": {},
     "output_type": "execute_result"
    },
    {
     "data": {
      "image/png": "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\n",
      "text/plain": [
       "<Figure size 432x288 with 1 Axes>"
      ]
     },
     "metadata": {
      "needs_background": "light"
     },
     "output_type": "display_data"
    }
   ],
   "source": [
    "sns.barplot(x=a,y=b)"
   ]
  },
  {
   "cell_type": "markdown",
   "metadata": {
    "papermill": {
     "duration": 0.047491,
     "end_time": "2021-11-10T10:10:01.081864",
     "exception": false,
     "start_time": "2021-11-10T10:10:01.034373",
     "status": "completed"
    },
    "tags": []
   },
   "source": [
    "##### From the above bar graph we can see that,uses of Credit Card is the highest aroud 75000, then boleto that is slightly less than 20000, "
   ]
  },
  {
   "cell_type": "markdown",
   "metadata": {
    "papermill": {
     "duration": 0.045981,
     "end_time": "2021-11-10T10:10:01.174570",
     "exception": false,
     "start_time": "2021-11-10T10:10:01.128589",
     "status": "completed"
    },
    "tags": []
   },
   "source": [
    "### Products Reviews"
   ]
  },
  {
   "cell_type": "code",
   "execution_count": 34,
   "metadata": {
    "execution": {
     "iopub.execute_input": "2021-11-10T10:10:01.274406Z",
     "iopub.status.busy": "2021-11-10T10:10:01.273760Z",
     "iopub.status.idle": "2021-11-10T10:10:01.291920Z",
     "shell.execute_reply": "2021-11-10T10:10:01.292398Z",
     "shell.execute_reply.started": "2021-09-21T07:44:18.721172Z"
    },
    "papermill": {
     "duration": 0.067917,
     "end_time": "2021-11-10T10:10:01.292596",
     "exception": false,
     "start_time": "2021-11-10T10:10:01.224679",
     "status": "completed"
    },
    "tags": []
   },
   "outputs": [
    {
     "data": {
      "text/html": [
       "<div>\n",
       "<style scoped>\n",
       "    .dataframe tbody tr th:only-of-type {\n",
       "        vertical-align: middle;\n",
       "    }\n",
       "\n",
       "    .dataframe tbody tr th {\n",
       "        vertical-align: top;\n",
       "    }\n",
       "\n",
       "    .dataframe thead th {\n",
       "        text-align: right;\n",
       "    }\n",
       "</style>\n",
       "<table border=\"1\" class=\"dataframe\">\n",
       "  <thead>\n",
       "    <tr style=\"text-align: right;\">\n",
       "      <th></th>\n",
       "      <th>order_id</th>\n",
       "      <th>order_item_id</th>\n",
       "      <th>product_id</th>\n",
       "      <th>seller_id</th>\n",
       "      <th>shipping_limit_date</th>\n",
       "      <th>price</th>\n",
       "      <th>freight_value</th>\n",
       "      <th>product_category_name</th>\n",
       "      <th>product_name_lenght</th>\n",
       "      <th>product_description_lenght</th>\n",
       "      <th>product_photos_qty</th>\n",
       "      <th>product_weight_g</th>\n",
       "      <th>product_length_cm</th>\n",
       "      <th>product_height_cm</th>\n",
       "      <th>product_width_cm</th>\n",
       "    </tr>\n",
       "  </thead>\n",
       "  <tbody>\n",
       "    <tr>\n",
       "      <th>0</th>\n",
       "      <td>00010242fe8c5a6d1ba2dd792cb16214</td>\n",
       "      <td>1</td>\n",
       "      <td>4244733e06e7ecb4970a6e2683c13e61</td>\n",
       "      <td>48436dade18ac8b2bce089ec2a041202</td>\n",
       "      <td>2017-09-19 09:45:35</td>\n",
       "      <td>58.9</td>\n",
       "      <td>13.29</td>\n",
       "      <td>cool_stuff</td>\n",
       "      <td>58.0</td>\n",
       "      <td>598.0</td>\n",
       "      <td>4.0</td>\n",
       "      <td>650.0</td>\n",
       "      <td>28.0</td>\n",
       "      <td>9.0</td>\n",
       "      <td>14.0</td>\n",
       "    </tr>\n",
       "    <tr>\n",
       "      <th>1</th>\n",
       "      <td>130898c0987d1801452a8ed92a670612</td>\n",
       "      <td>1</td>\n",
       "      <td>4244733e06e7ecb4970a6e2683c13e61</td>\n",
       "      <td>48436dade18ac8b2bce089ec2a041202</td>\n",
       "      <td>2017-07-05 02:44:11</td>\n",
       "      <td>55.9</td>\n",
       "      <td>17.96</td>\n",
       "      <td>cool_stuff</td>\n",
       "      <td>58.0</td>\n",
       "      <td>598.0</td>\n",
       "      <td>4.0</td>\n",
       "      <td>650.0</td>\n",
       "      <td>28.0</td>\n",
       "      <td>9.0</td>\n",
       "      <td>14.0</td>\n",
       "    </tr>\n",
       "    <tr>\n",
       "      <th>2</th>\n",
       "      <td>532ed5e14e24ae1f0d735b91524b98b9</td>\n",
       "      <td>1</td>\n",
       "      <td>4244733e06e7ecb4970a6e2683c13e61</td>\n",
       "      <td>48436dade18ac8b2bce089ec2a041202</td>\n",
       "      <td>2018-05-23 10:56:25</td>\n",
       "      <td>64.9</td>\n",
       "      <td>18.33</td>\n",
       "      <td>cool_stuff</td>\n",
       "      <td>58.0</td>\n",
       "      <td>598.0</td>\n",
       "      <td>4.0</td>\n",
       "      <td>650.0</td>\n",
       "      <td>28.0</td>\n",
       "      <td>9.0</td>\n",
       "      <td>14.0</td>\n",
       "    </tr>\n",
       "  </tbody>\n",
       "</table>\n",
       "</div>"
      ],
      "text/plain": [
       "                           order_id  order_item_id  \\\n",
       "0  00010242fe8c5a6d1ba2dd792cb16214              1   \n",
       "1  130898c0987d1801452a8ed92a670612              1   \n",
       "2  532ed5e14e24ae1f0d735b91524b98b9              1   \n",
       "\n",
       "                         product_id                         seller_id  \\\n",
       "0  4244733e06e7ecb4970a6e2683c13e61  48436dade18ac8b2bce089ec2a041202   \n",
       "1  4244733e06e7ecb4970a6e2683c13e61  48436dade18ac8b2bce089ec2a041202   \n",
       "2  4244733e06e7ecb4970a6e2683c13e61  48436dade18ac8b2bce089ec2a041202   \n",
       "\n",
       "   shipping_limit_date  price  freight_value product_category_name  \\\n",
       "0  2017-09-19 09:45:35   58.9          13.29            cool_stuff   \n",
       "1  2017-07-05 02:44:11   55.9          17.96            cool_stuff   \n",
       "2  2018-05-23 10:56:25   64.9          18.33            cool_stuff   \n",
       "\n",
       "   product_name_lenght  product_description_lenght  product_photos_qty  \\\n",
       "0                 58.0                       598.0                 4.0   \n",
       "1                 58.0                       598.0                 4.0   \n",
       "2                 58.0                       598.0                 4.0   \n",
       "\n",
       "   product_weight_g  product_length_cm  product_height_cm  product_width_cm  \n",
       "0             650.0               28.0                9.0              14.0  \n",
       "1             650.0               28.0                9.0              14.0  \n",
       "2             650.0               28.0                9.0              14.0  "
      ]
     },
     "execution_count": 34,
     "metadata": {},
     "output_type": "execute_result"
    }
   ],
   "source": [
    "# we will first see if there is any relation between our product_and_order_items_df, and order_reviews\n",
    "products_and_order_items_df.head(3)"
   ]
  },
  {
   "cell_type": "code",
   "execution_count": 35,
   "metadata": {
    "execution": {
     "iopub.execute_input": "2021-11-10T10:10:01.398598Z",
     "iopub.status.busy": "2021-11-10T10:10:01.397836Z",
     "iopub.status.idle": "2021-11-10T10:10:01.401677Z",
     "shell.execute_reply": "2021-11-10T10:10:01.402097Z",
     "shell.execute_reply.started": "2021-09-21T07:44:18.744367Z"
    },
    "papermill": {
     "duration": 0.062813,
     "end_time": "2021-11-10T10:10:01.402292",
     "exception": false,
     "start_time": "2021-11-10T10:10:01.339479",
     "status": "completed"
    },
    "tags": []
   },
   "outputs": [
    {
     "data": {
      "text/html": [
       "<div>\n",
       "<style scoped>\n",
       "    .dataframe tbody tr th:only-of-type {\n",
       "        vertical-align: middle;\n",
       "    }\n",
       "\n",
       "    .dataframe tbody tr th {\n",
       "        vertical-align: top;\n",
       "    }\n",
       "\n",
       "    .dataframe thead th {\n",
       "        text-align: right;\n",
       "    }\n",
       "</style>\n",
       "<table border=\"1\" class=\"dataframe\">\n",
       "  <thead>\n",
       "    <tr style=\"text-align: right;\">\n",
       "      <th></th>\n",
       "      <th>review_id</th>\n",
       "      <th>order_id</th>\n",
       "      <th>review_score</th>\n",
       "      <th>review_comment_title</th>\n",
       "      <th>review_comment_message</th>\n",
       "      <th>review_creation_date</th>\n",
       "      <th>review_answer_timestamp</th>\n",
       "    </tr>\n",
       "  </thead>\n",
       "  <tbody>\n",
       "    <tr>\n",
       "      <th>0</th>\n",
       "      <td>7bc2406110b926393aa56f80a40eba40</td>\n",
       "      <td>73fc7af87114b39712e6da79b0a377eb</td>\n",
       "      <td>4</td>\n",
       "      <td>NaN</td>\n",
       "      <td>NaN</td>\n",
       "      <td>2018-01-18 00:00:00</td>\n",
       "      <td>2018-01-18 21:46:59</td>\n",
       "    </tr>\n",
       "    <tr>\n",
       "      <th>1</th>\n",
       "      <td>80e641a11e56f04c1ad469d5645fdfde</td>\n",
       "      <td>a548910a1c6147796b98fdf73dbeba33</td>\n",
       "      <td>5</td>\n",
       "      <td>NaN</td>\n",
       "      <td>NaN</td>\n",
       "      <td>2018-03-10 00:00:00</td>\n",
       "      <td>2018-03-11 03:05:13</td>\n",
       "    </tr>\n",
       "    <tr>\n",
       "      <th>2</th>\n",
       "      <td>228ce5500dc1d8e020d8d1322874b6f0</td>\n",
       "      <td>f9e4b658b201a9f2ecdecbb34bed034b</td>\n",
       "      <td>5</td>\n",
       "      <td>NaN</td>\n",
       "      <td>NaN</td>\n",
       "      <td>2018-02-17 00:00:00</td>\n",
       "      <td>2018-02-18 14:36:24</td>\n",
       "    </tr>\n",
       "  </tbody>\n",
       "</table>\n",
       "</div>"
      ],
      "text/plain": [
       "                          review_id                          order_id  \\\n",
       "0  7bc2406110b926393aa56f80a40eba40  73fc7af87114b39712e6da79b0a377eb   \n",
       "1  80e641a11e56f04c1ad469d5645fdfde  a548910a1c6147796b98fdf73dbeba33   \n",
       "2  228ce5500dc1d8e020d8d1322874b6f0  f9e4b658b201a9f2ecdecbb34bed034b   \n",
       "\n",
       "   review_score review_comment_title review_comment_message  \\\n",
       "0             4                  NaN                    NaN   \n",
       "1             5                  NaN                    NaN   \n",
       "2             5                  NaN                    NaN   \n",
       "\n",
       "  review_creation_date review_answer_timestamp  \n",
       "0  2018-01-18 00:00:00     2018-01-18 21:46:59  \n",
       "1  2018-03-10 00:00:00     2018-03-11 03:05:13  \n",
       "2  2018-02-17 00:00:00     2018-02-18 14:36:24  "
      ]
     },
     "execution_count": 35,
     "metadata": {},
     "output_type": "execute_result"
    }
   ],
   "source": [
    "# printing top 3 rows or order_reviews\n",
    "order_reviews.head(3)"
   ]
  },
  {
   "cell_type": "markdown",
   "metadata": {
    "papermill": {
     "duration": 0.046688,
     "end_time": "2021-11-10T10:10:01.496576",
     "exception": false,
     "start_time": "2021-11-10T10:10:01.449888",
     "status": "completed"
    },
    "tags": []
   },
   "source": [
    "#### We can join it based on order_id column which is common to both, for this we will make another dataframe named \"reviews_df'"
   ]
  },
  {
   "cell_type": "code",
   "execution_count": 36,
   "metadata": {
    "execution": {
     "iopub.execute_input": "2021-11-10T10:10:01.597204Z",
     "iopub.status.busy": "2021-11-10T10:10:01.596546Z",
     "iopub.status.idle": "2021-11-10T10:10:01.780237Z",
     "shell.execute_reply": "2021-11-10T10:10:01.779696Z",
     "shell.execute_reply.started": "2021-09-21T07:44:18.761339Z"
    },
    "papermill": {
     "duration": 0.236469,
     "end_time": "2021-11-10T10:10:01.780394",
     "exception": false,
     "start_time": "2021-11-10T10:10:01.543925",
     "status": "completed"
    },
    "tags": []
   },
   "outputs": [],
   "source": [
    "reviews_df=pd.merge(products_and_order_items_df, order_reviews)"
   ]
  },
  {
   "cell_type": "code",
   "execution_count": 37,
   "metadata": {
    "execution": {
     "iopub.execute_input": "2021-11-10T10:10:01.877444Z",
     "iopub.status.busy": "2021-11-10T10:10:01.876728Z",
     "iopub.status.idle": "2021-11-10T10:10:01.900586Z",
     "shell.execute_reply": "2021-11-10T10:10:01.901107Z",
     "shell.execute_reply.started": "2021-09-21T07:44:18.943282Z"
    },
    "papermill": {
     "duration": 0.074245,
     "end_time": "2021-11-10T10:10:01.901320",
     "exception": false,
     "start_time": "2021-11-10T10:10:01.827075",
     "status": "completed"
    },
    "tags": []
   },
   "outputs": [
    {
     "data": {
      "text/html": [
       "<div>\n",
       "<style scoped>\n",
       "    .dataframe tbody tr th:only-of-type {\n",
       "        vertical-align: middle;\n",
       "    }\n",
       "\n",
       "    .dataframe tbody tr th {\n",
       "        vertical-align: top;\n",
       "    }\n",
       "\n",
       "    .dataframe thead th {\n",
       "        text-align: right;\n",
       "    }\n",
       "</style>\n",
       "<table border=\"1\" class=\"dataframe\">\n",
       "  <thead>\n",
       "    <tr style=\"text-align: right;\">\n",
       "      <th></th>\n",
       "      <th>order_id</th>\n",
       "      <th>order_item_id</th>\n",
       "      <th>product_id</th>\n",
       "      <th>seller_id</th>\n",
       "      <th>shipping_limit_date</th>\n",
       "      <th>price</th>\n",
       "      <th>freight_value</th>\n",
       "      <th>product_category_name</th>\n",
       "      <th>product_name_lenght</th>\n",
       "      <th>product_description_lenght</th>\n",
       "      <th>...</th>\n",
       "      <th>product_weight_g</th>\n",
       "      <th>product_length_cm</th>\n",
       "      <th>product_height_cm</th>\n",
       "      <th>product_width_cm</th>\n",
       "      <th>review_id</th>\n",
       "      <th>review_score</th>\n",
       "      <th>review_comment_title</th>\n",
       "      <th>review_comment_message</th>\n",
       "      <th>review_creation_date</th>\n",
       "      <th>review_answer_timestamp</th>\n",
       "    </tr>\n",
       "  </thead>\n",
       "  <tbody>\n",
       "    <tr>\n",
       "      <th>0</th>\n",
       "      <td>00010242fe8c5a6d1ba2dd792cb16214</td>\n",
       "      <td>1</td>\n",
       "      <td>4244733e06e7ecb4970a6e2683c13e61</td>\n",
       "      <td>48436dade18ac8b2bce089ec2a041202</td>\n",
       "      <td>2017-09-19 09:45:35</td>\n",
       "      <td>58.9</td>\n",
       "      <td>13.29</td>\n",
       "      <td>cool_stuff</td>\n",
       "      <td>58.0</td>\n",
       "      <td>598.0</td>\n",
       "      <td>...</td>\n",
       "      <td>650.0</td>\n",
       "      <td>28.0</td>\n",
       "      <td>9.0</td>\n",
       "      <td>14.0</td>\n",
       "      <td>97ca439bc427b48bc1cd7177abe71365</td>\n",
       "      <td>5</td>\n",
       "      <td>NaN</td>\n",
       "      <td>Perfeito, produto entregue antes do combinado.</td>\n",
       "      <td>2017-09-21 00:00:00</td>\n",
       "      <td>2017-09-22 10:57:03</td>\n",
       "    </tr>\n",
       "    <tr>\n",
       "      <th>1</th>\n",
       "      <td>130898c0987d1801452a8ed92a670612</td>\n",
       "      <td>1</td>\n",
       "      <td>4244733e06e7ecb4970a6e2683c13e61</td>\n",
       "      <td>48436dade18ac8b2bce089ec2a041202</td>\n",
       "      <td>2017-07-05 02:44:11</td>\n",
       "      <td>55.9</td>\n",
       "      <td>17.96</td>\n",
       "      <td>cool_stuff</td>\n",
       "      <td>58.0</td>\n",
       "      <td>598.0</td>\n",
       "      <td>...</td>\n",
       "      <td>650.0</td>\n",
       "      <td>28.0</td>\n",
       "      <td>9.0</td>\n",
       "      <td>14.0</td>\n",
       "      <td>b11cba360bbe71410c291b764753d37f</td>\n",
       "      <td>5</td>\n",
       "      <td>NaN</td>\n",
       "      <td>lannister como sempre, entregou certinho e den...</td>\n",
       "      <td>2017-07-14 00:00:00</td>\n",
       "      <td>2017-07-17 12:50:07</td>\n",
       "    </tr>\n",
       "    <tr>\n",
       "      <th>2</th>\n",
       "      <td>532ed5e14e24ae1f0d735b91524b98b9</td>\n",
       "      <td>1</td>\n",
       "      <td>4244733e06e7ecb4970a6e2683c13e61</td>\n",
       "      <td>48436dade18ac8b2bce089ec2a041202</td>\n",
       "      <td>2018-05-23 10:56:25</td>\n",
       "      <td>64.9</td>\n",
       "      <td>18.33</td>\n",
       "      <td>cool_stuff</td>\n",
       "      <td>58.0</td>\n",
       "      <td>598.0</td>\n",
       "      <td>...</td>\n",
       "      <td>650.0</td>\n",
       "      <td>28.0</td>\n",
       "      <td>9.0</td>\n",
       "      <td>14.0</td>\n",
       "      <td>af01c4017c5ab46df6cc810e069e654a</td>\n",
       "      <td>4</td>\n",
       "      <td>super recomendo</td>\n",
       "      <td>carrinho muito bonito</td>\n",
       "      <td>2018-06-05 00:00:00</td>\n",
       "      <td>2018-06-06 21:41:12</td>\n",
       "    </tr>\n",
       "  </tbody>\n",
       "</table>\n",
       "<p>3 rows × 21 columns</p>\n",
       "</div>"
      ],
      "text/plain": [
       "                           order_id  order_item_id  \\\n",
       "0  00010242fe8c5a6d1ba2dd792cb16214              1   \n",
       "1  130898c0987d1801452a8ed92a670612              1   \n",
       "2  532ed5e14e24ae1f0d735b91524b98b9              1   \n",
       "\n",
       "                         product_id                         seller_id  \\\n",
       "0  4244733e06e7ecb4970a6e2683c13e61  48436dade18ac8b2bce089ec2a041202   \n",
       "1  4244733e06e7ecb4970a6e2683c13e61  48436dade18ac8b2bce089ec2a041202   \n",
       "2  4244733e06e7ecb4970a6e2683c13e61  48436dade18ac8b2bce089ec2a041202   \n",
       "\n",
       "   shipping_limit_date  price  freight_value product_category_name  \\\n",
       "0  2017-09-19 09:45:35   58.9          13.29            cool_stuff   \n",
       "1  2017-07-05 02:44:11   55.9          17.96            cool_stuff   \n",
       "2  2018-05-23 10:56:25   64.9          18.33            cool_stuff   \n",
       "\n",
       "   product_name_lenght  product_description_lenght  ...  product_weight_g  \\\n",
       "0                 58.0                       598.0  ...             650.0   \n",
       "1                 58.0                       598.0  ...             650.0   \n",
       "2                 58.0                       598.0  ...             650.0   \n",
       "\n",
       "   product_length_cm  product_height_cm  product_width_cm  \\\n",
       "0               28.0                9.0              14.0   \n",
       "1               28.0                9.0              14.0   \n",
       "2               28.0                9.0              14.0   \n",
       "\n",
       "                          review_id review_score  review_comment_title  \\\n",
       "0  97ca439bc427b48bc1cd7177abe71365            5                   NaN   \n",
       "1  b11cba360bbe71410c291b764753d37f            5                   NaN   \n",
       "2  af01c4017c5ab46df6cc810e069e654a            4       super recomendo   \n",
       "\n",
       "                              review_comment_message review_creation_date  \\\n",
       "0     Perfeito, produto entregue antes do combinado.  2017-09-21 00:00:00   \n",
       "1  lannister como sempre, entregou certinho e den...  2017-07-14 00:00:00   \n",
       "2                              carrinho muito bonito  2018-06-05 00:00:00   \n",
       "\n",
       "  review_answer_timestamp  \n",
       "0     2017-09-22 10:57:03  \n",
       "1     2017-07-17 12:50:07  \n",
       "2     2018-06-06 21:41:12  \n",
       "\n",
       "[3 rows x 21 columns]"
      ]
     },
     "execution_count": 37,
     "metadata": {},
     "output_type": "execute_result"
    }
   ],
   "source": [
    "reviews_df.head(3)"
   ]
  },
  {
   "cell_type": "code",
   "execution_count": 38,
   "metadata": {
    "execution": {
     "iopub.execute_input": "2021-11-10T10:10:02.002302Z",
     "iopub.status.busy": "2021-11-10T10:10:02.001620Z",
     "iopub.status.idle": "2021-11-10T10:10:02.006556Z",
     "shell.execute_reply": "2021-11-10T10:10:02.007088Z",
     "shell.execute_reply.started": "2021-09-21T07:44:18.972308Z"
    },
    "papermill": {
     "duration": 0.057796,
     "end_time": "2021-11-10T10:10:02.007289",
     "exception": false,
     "start_time": "2021-11-10T10:10:01.949493",
     "status": "completed"
    },
    "tags": []
   },
   "outputs": [
    {
     "data": {
      "text/plain": [
       "(112372, 21)"
      ]
     },
     "execution_count": 38,
     "metadata": {},
     "output_type": "execute_result"
    }
   ],
   "source": [
    "reviews_df.shape"
   ]
  },
  {
   "cell_type": "code",
   "execution_count": 39,
   "metadata": {
    "execution": {
     "iopub.execute_input": "2021-11-10T10:10:02.107863Z",
     "iopub.status.busy": "2021-11-10T10:10:02.107161Z",
     "iopub.status.idle": "2021-11-10T10:10:02.114293Z",
     "shell.execute_reply": "2021-11-10T10:10:02.114809Z",
     "shell.execute_reply.started": "2021-09-21T07:44:18.979862Z"
    },
    "papermill": {
     "duration": 0.05919,
     "end_time": "2021-11-10T10:10:02.114984",
     "exception": false,
     "start_time": "2021-11-10T10:10:02.055794",
     "status": "completed"
    },
    "tags": []
   },
   "outputs": [
    {
     "data": {
      "text/plain": [
       "5    57328\n",
       "4    19142\n",
       "1    11424\n",
       "3     8179\n",
       "2     3151\n",
       "Name: review_score, dtype: int64"
      ]
     },
     "execution_count": 39,
     "metadata": {},
     "output_type": "execute_result"
    }
   ],
   "source": [
    "order_reviews['review_score'].value_counts()"
   ]
  },
  {
   "cell_type": "code",
   "execution_count": 40,
   "metadata": {
    "execution": {
     "iopub.execute_input": "2021-11-10T10:10:02.216235Z",
     "iopub.status.busy": "2021-11-10T10:10:02.214697Z",
     "iopub.status.idle": "2021-11-10T10:10:02.221529Z",
     "shell.execute_reply": "2021-11-10T10:10:02.221010Z",
     "shell.execute_reply.started": "2021-09-21T07:44:18.994012Z"
    },
    "papermill": {
     "duration": 0.057741,
     "end_time": "2021-11-10T10:10:02.221688",
     "exception": false,
     "start_time": "2021-11-10T10:10:02.163947",
     "status": "completed"
    },
    "tags": []
   },
   "outputs": [
    {
     "data": {
      "text/plain": [
       "array([4, 5, 1, 3, 2])"
      ]
     },
     "execution_count": 40,
     "metadata": {},
     "output_type": "execute_result"
    }
   ],
   "source": [
    "order_reviews['review_score'].unique()"
   ]
  },
  {
   "cell_type": "markdown",
   "metadata": {
    "papermill": {
     "duration": 0.0486,
     "end_time": "2021-11-10T10:10:02.320303",
     "exception": false,
     "start_time": "2021-11-10T10:10:02.271703",
     "status": "completed"
    },
    "tags": []
   },
   "source": [
    "#### Ratings points are discrete, starting from 1 to 5."
   ]
  },
  {
   "cell_type": "code",
   "execution_count": 41,
   "metadata": {
    "execution": {
     "iopub.execute_input": "2021-11-10T10:10:02.421657Z",
     "iopub.status.busy": "2021-11-10T10:10:02.420995Z",
     "iopub.status.idle": "2021-11-10T10:10:02.578661Z",
     "shell.execute_reply": "2021-11-10T10:10:02.579209Z",
     "shell.execute_reply.started": "2021-09-21T07:44:19.004062Z"
    },
    "papermill": {
     "duration": 0.210752,
     "end_time": "2021-11-10T10:10:02.579426",
     "exception": false,
     "start_time": "2021-11-10T10:10:02.368674",
     "status": "completed"
    },
    "tags": []
   },
   "outputs": [
    {
     "data": {
      "text/plain": [
       "Text(0, 0.5, 'Counts')"
      ]
     },
     "execution_count": 41,
     "metadata": {},
     "output_type": "execute_result"
    },
    {
     "data": {
      "image/png": "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\n",
      "text/plain": [
       "<Figure size 432x288 with 1 Axes>"
      ]
     },
     "metadata": {
      "needs_background": "light"
     },
     "output_type": "display_data"
    }
   ],
   "source": [
    "sns.barplot(x=order_reviews['review_score'].value_counts().index,y=order_reviews['review_score'].value_counts().values)\n",
    "plt.xlabel('Ratings')\n",
    "plt.ylabel('Counts')"
   ]
  },
  {
   "cell_type": "markdown",
   "metadata": {
    "papermill": {
     "duration": 0.049645,
     "end_time": "2021-11-10T10:10:02.680978",
     "exception": false,
     "start_time": "2021-11-10T10:10:02.631333",
     "status": "completed"
    },
    "tags": []
   },
   "source": [
    "Most of the products have been rated 5,then 4.\n",
    "also 1 rating is higher than 2 and 3\n"
   ]
  },
  {
   "cell_type": "markdown",
   "metadata": {
    "papermill": {
     "duration": 0.050601,
     "end_time": "2021-11-10T10:10:02.782124",
     "exception": false,
     "start_time": "2021-11-10T10:10:02.731523",
     "status": "completed"
    },
    "tags": []
   },
   "source": [
    "### Top Ten rated products"
   ]
  },
  {
   "cell_type": "code",
   "execution_count": 42,
   "metadata": {
    "execution": {
     "iopub.execute_input": "2021-11-10T10:10:02.888980Z",
     "iopub.status.busy": "2021-11-10T10:10:02.888309Z",
     "iopub.status.idle": "2021-11-10T10:10:02.910234Z",
     "shell.execute_reply": "2021-11-10T10:10:02.910695Z",
     "shell.execute_reply.started": "2021-09-21T07:44:19.174827Z"
    },
    "papermill": {
     "duration": 0.078668,
     "end_time": "2021-11-10T10:10:02.910880",
     "exception": false,
     "start_time": "2021-11-10T10:10:02.832212",
     "status": "completed"
    },
    "tags": []
   },
   "outputs": [
    {
     "data": {
      "text/html": [
       "<div>\n",
       "<style scoped>\n",
       "    .dataframe tbody tr th:only-of-type {\n",
       "        vertical-align: middle;\n",
       "    }\n",
       "\n",
       "    .dataframe tbody tr th {\n",
       "        vertical-align: top;\n",
       "    }\n",
       "\n",
       "    .dataframe thead th {\n",
       "        text-align: right;\n",
       "    }\n",
       "</style>\n",
       "<table border=\"1\" class=\"dataframe\">\n",
       "  <thead>\n",
       "    <tr style=\"text-align: right;\">\n",
       "      <th></th>\n",
       "      <th>order_id</th>\n",
       "      <th>order_item_id</th>\n",
       "      <th>product_id</th>\n",
       "      <th>seller_id</th>\n",
       "      <th>shipping_limit_date</th>\n",
       "      <th>price</th>\n",
       "      <th>freight_value</th>\n",
       "      <th>product_category_name</th>\n",
       "      <th>product_name_lenght</th>\n",
       "      <th>product_description_lenght</th>\n",
       "      <th>...</th>\n",
       "      <th>product_weight_g</th>\n",
       "      <th>product_length_cm</th>\n",
       "      <th>product_height_cm</th>\n",
       "      <th>product_width_cm</th>\n",
       "      <th>review_id</th>\n",
       "      <th>review_score</th>\n",
       "      <th>review_comment_title</th>\n",
       "      <th>review_comment_message</th>\n",
       "      <th>review_creation_date</th>\n",
       "      <th>review_answer_timestamp</th>\n",
       "    </tr>\n",
       "  </thead>\n",
       "  <tbody>\n",
       "    <tr>\n",
       "      <th>0</th>\n",
       "      <td>00010242fe8c5a6d1ba2dd792cb16214</td>\n",
       "      <td>1</td>\n",
       "      <td>4244733e06e7ecb4970a6e2683c13e61</td>\n",
       "      <td>48436dade18ac8b2bce089ec2a041202</td>\n",
       "      <td>2017-09-19 09:45:35</td>\n",
       "      <td>58.9</td>\n",
       "      <td>13.29</td>\n",
       "      <td>cool_stuff</td>\n",
       "      <td>58.0</td>\n",
       "      <td>598.0</td>\n",
       "      <td>...</td>\n",
       "      <td>650.0</td>\n",
       "      <td>28.0</td>\n",
       "      <td>9.0</td>\n",
       "      <td>14.0</td>\n",
       "      <td>97ca439bc427b48bc1cd7177abe71365</td>\n",
       "      <td>5</td>\n",
       "      <td>NaN</td>\n",
       "      <td>Perfeito, produto entregue antes do combinado.</td>\n",
       "      <td>2017-09-21 00:00:00</td>\n",
       "      <td>2017-09-22 10:57:03</td>\n",
       "    </tr>\n",
       "    <tr>\n",
       "      <th>1</th>\n",
       "      <td>130898c0987d1801452a8ed92a670612</td>\n",
       "      <td>1</td>\n",
       "      <td>4244733e06e7ecb4970a6e2683c13e61</td>\n",
       "      <td>48436dade18ac8b2bce089ec2a041202</td>\n",
       "      <td>2017-07-05 02:44:11</td>\n",
       "      <td>55.9</td>\n",
       "      <td>17.96</td>\n",
       "      <td>cool_stuff</td>\n",
       "      <td>58.0</td>\n",
       "      <td>598.0</td>\n",
       "      <td>...</td>\n",
       "      <td>650.0</td>\n",
       "      <td>28.0</td>\n",
       "      <td>9.0</td>\n",
       "      <td>14.0</td>\n",
       "      <td>b11cba360bbe71410c291b764753d37f</td>\n",
       "      <td>5</td>\n",
       "      <td>NaN</td>\n",
       "      <td>lannister como sempre, entregou certinho e den...</td>\n",
       "      <td>2017-07-14 00:00:00</td>\n",
       "      <td>2017-07-17 12:50:07</td>\n",
       "    </tr>\n",
       "    <tr>\n",
       "      <th>2</th>\n",
       "      <td>532ed5e14e24ae1f0d735b91524b98b9</td>\n",
       "      <td>1</td>\n",
       "      <td>4244733e06e7ecb4970a6e2683c13e61</td>\n",
       "      <td>48436dade18ac8b2bce089ec2a041202</td>\n",
       "      <td>2018-05-23 10:56:25</td>\n",
       "      <td>64.9</td>\n",
       "      <td>18.33</td>\n",
       "      <td>cool_stuff</td>\n",
       "      <td>58.0</td>\n",
       "      <td>598.0</td>\n",
       "      <td>...</td>\n",
       "      <td>650.0</td>\n",
       "      <td>28.0</td>\n",
       "      <td>9.0</td>\n",
       "      <td>14.0</td>\n",
       "      <td>af01c4017c5ab46df6cc810e069e654a</td>\n",
       "      <td>4</td>\n",
       "      <td>super recomendo</td>\n",
       "      <td>carrinho muito bonito</td>\n",
       "      <td>2018-06-05 00:00:00</td>\n",
       "      <td>2018-06-06 21:41:12</td>\n",
       "    </tr>\n",
       "  </tbody>\n",
       "</table>\n",
       "<p>3 rows × 21 columns</p>\n",
       "</div>"
      ],
      "text/plain": [
       "                           order_id  order_item_id  \\\n",
       "0  00010242fe8c5a6d1ba2dd792cb16214              1   \n",
       "1  130898c0987d1801452a8ed92a670612              1   \n",
       "2  532ed5e14e24ae1f0d735b91524b98b9              1   \n",
       "\n",
       "                         product_id                         seller_id  \\\n",
       "0  4244733e06e7ecb4970a6e2683c13e61  48436dade18ac8b2bce089ec2a041202   \n",
       "1  4244733e06e7ecb4970a6e2683c13e61  48436dade18ac8b2bce089ec2a041202   \n",
       "2  4244733e06e7ecb4970a6e2683c13e61  48436dade18ac8b2bce089ec2a041202   \n",
       "\n",
       "   shipping_limit_date  price  freight_value product_category_name  \\\n",
       "0  2017-09-19 09:45:35   58.9          13.29            cool_stuff   \n",
       "1  2017-07-05 02:44:11   55.9          17.96            cool_stuff   \n",
       "2  2018-05-23 10:56:25   64.9          18.33            cool_stuff   \n",
       "\n",
       "   product_name_lenght  product_description_lenght  ...  product_weight_g  \\\n",
       "0                 58.0                       598.0  ...             650.0   \n",
       "1                 58.0                       598.0  ...             650.0   \n",
       "2                 58.0                       598.0  ...             650.0   \n",
       "\n",
       "   product_length_cm  product_height_cm  product_width_cm  \\\n",
       "0               28.0                9.0              14.0   \n",
       "1               28.0                9.0              14.0   \n",
       "2               28.0                9.0              14.0   \n",
       "\n",
       "                          review_id review_score  review_comment_title  \\\n",
       "0  97ca439bc427b48bc1cd7177abe71365            5                   NaN   \n",
       "1  b11cba360bbe71410c291b764753d37f            5                   NaN   \n",
       "2  af01c4017c5ab46df6cc810e069e654a            4       super recomendo   \n",
       "\n",
       "                              review_comment_message review_creation_date  \\\n",
       "0     Perfeito, produto entregue antes do combinado.  2017-09-21 00:00:00   \n",
       "1  lannister como sempre, entregou certinho e den...  2017-07-14 00:00:00   \n",
       "2                              carrinho muito bonito  2018-06-05 00:00:00   \n",
       "\n",
       "  review_answer_timestamp  \n",
       "0     2017-09-22 10:57:03  \n",
       "1     2017-07-17 12:50:07  \n",
       "2     2018-06-06 21:41:12  \n",
       "\n",
       "[3 rows x 21 columns]"
      ]
     },
     "execution_count": 42,
     "metadata": {},
     "output_type": "execute_result"
    }
   ],
   "source": [
    "reviews_df.head(3)"
   ]
  },
  {
   "cell_type": "code",
   "execution_count": 43,
   "metadata": {
    "execution": {
     "iopub.execute_input": "2021-11-10T10:10:03.013733Z",
     "iopub.status.busy": "2021-11-10T10:10:03.013026Z",
     "iopub.status.idle": "2021-11-10T10:10:03.130965Z",
     "shell.execute_reply": "2021-11-10T10:10:03.130037Z",
     "shell.execute_reply.started": "2021-09-21T07:44:19.205086Z"
    },
    "papermill": {
     "duration": 0.170396,
     "end_time": "2021-11-10T10:10:03.131149",
     "exception": false,
     "start_time": "2021-11-10T10:10:02.960753",
     "status": "completed"
    },
    "tags": []
   },
   "outputs": [],
   "source": [
    "product_reviews_mean = reviews_df.groupby('product_category_name').mean()['review_score'].reset_index()"
   ]
  },
  {
   "cell_type": "code",
   "execution_count": 44,
   "metadata": {
    "execution": {
     "iopub.execute_input": "2021-11-10T10:10:03.235511Z",
     "iopub.status.busy": "2021-11-10T10:10:03.234846Z",
     "iopub.status.idle": "2021-11-10T10:10:03.243703Z",
     "shell.execute_reply": "2021-11-10T10:10:03.244267Z",
     "shell.execute_reply.started": "2021-09-21T07:44:19.323345Z"
    },
    "papermill": {
     "duration": 0.062868,
     "end_time": "2021-11-10T10:10:03.244450",
     "exception": false,
     "start_time": "2021-11-10T10:10:03.181582",
     "status": "completed"
    },
    "tags": []
   },
   "outputs": [
    {
     "data": {
      "text/html": [
       "<div>\n",
       "<style scoped>\n",
       "    .dataframe tbody tr th:only-of-type {\n",
       "        vertical-align: middle;\n",
       "    }\n",
       "\n",
       "    .dataframe tbody tr th {\n",
       "        vertical-align: top;\n",
       "    }\n",
       "\n",
       "    .dataframe thead th {\n",
       "        text-align: right;\n",
       "    }\n",
       "</style>\n",
       "<table border=\"1\" class=\"dataframe\">\n",
       "  <thead>\n",
       "    <tr style=\"text-align: right;\">\n",
       "      <th></th>\n",
       "      <th>product_category_name</th>\n",
       "      <th>review_score</th>\n",
       "    </tr>\n",
       "  </thead>\n",
       "  <tbody>\n",
       "    <tr>\n",
       "      <th>0</th>\n",
       "      <td>agro_industria_e_comercio</td>\n",
       "      <td>4.000000</td>\n",
       "    </tr>\n",
       "    <tr>\n",
       "      <th>1</th>\n",
       "      <td>alimentos</td>\n",
       "      <td>4.218182</td>\n",
       "    </tr>\n",
       "    <tr>\n",
       "      <th>2</th>\n",
       "      <td>alimentos_bebidas</td>\n",
       "      <td>4.315412</td>\n",
       "    </tr>\n",
       "  </tbody>\n",
       "</table>\n",
       "</div>"
      ],
      "text/plain": [
       "       product_category_name  review_score\n",
       "0  agro_industria_e_comercio      4.000000\n",
       "1                  alimentos      4.218182\n",
       "2          alimentos_bebidas      4.315412"
      ]
     },
     "execution_count": 44,
     "metadata": {},
     "output_type": "execute_result"
    }
   ],
   "source": [
    "product_reviews_mean.head(3)"
   ]
  },
  {
   "cell_type": "code",
   "execution_count": 45,
   "metadata": {
    "execution": {
     "iopub.execute_input": "2021-11-10T10:10:03.357743Z",
     "iopub.status.busy": "2021-11-10T10:10:03.356704Z",
     "iopub.status.idle": "2021-11-10T10:10:03.358924Z",
     "shell.execute_reply": "2021-11-10T10:10:03.358488Z",
     "shell.execute_reply.started": "2021-09-21T07:46:16.542689Z"
    },
    "papermill": {
     "duration": 0.062296,
     "end_time": "2021-11-10T10:10:03.359066",
     "exception": false,
     "start_time": "2021-11-10T10:10:03.296770",
     "status": "completed"
    },
    "tags": []
   },
   "outputs": [],
   "source": [
    "top_10_ratings = product_reviews_mean.sort_values('review_score', ascending = False).nlargest(10,'review_score')\n",
    "lowest_10_ratings = product_reviews_mean.sort_values('review_score', ascending = False).nsmallest(10,'review_score')"
   ]
  },
  {
   "cell_type": "code",
   "execution_count": 46,
   "metadata": {
    "execution": {
     "iopub.execute_input": "2021-11-10T10:10:03.600288Z",
     "iopub.status.busy": "2021-11-10T10:10:03.467960Z",
     "iopub.status.idle": "2021-11-10T10:10:03.800575Z",
     "shell.execute_reply": "2021-11-10T10:10:03.801020Z",
     "shell.execute_reply.started": "2021-09-21T07:49:31.227148Z"
    },
    "papermill": {
     "duration": 0.391514,
     "end_time": "2021-11-10T10:10:03.801231",
     "exception": false,
     "start_time": "2021-11-10T10:10:03.409717",
     "status": "completed"
    },
    "tags": []
   },
   "outputs": [
    {
     "data": {
      "text/plain": [
       "Text(0, 0.5, 'Product Category Name')"
      ]
     },
     "execution_count": 46,
     "metadata": {},
     "output_type": "execute_result"
    },
    {
     "data": {
      "image/png": "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\n",
      "text/plain": [
       "<Figure size 432x288 with 1 Axes>"
      ]
     },
     "metadata": {
      "needs_background": "light"
     },
     "output_type": "display_data"
    }
   ],
   "source": [
    "sns.barplot(data = top_10_ratings, x = 'review_score', y = 'product_category_name')\n",
    "plt.title('Top 10 Product Ratings')\n",
    "plt.xlabel('Average Rating')\n",
    "plt.ylabel('Product Category Name')"
   ]
  },
  {
   "cell_type": "markdown",
   "metadata": {
    "papermill": {
     "duration": 0.062752,
     "end_time": "2021-11-10T10:10:03.916989",
     "exception": false,
     "start_time": "2021-11-10T10:10:03.854237",
     "status": "completed"
    },
    "tags": []
   },
   "source": [
    "#### Music, dvd, and cds category have the highest average ratings. after tha infant's fashion clothes come."
   ]
  },
  {
   "cell_type": "code",
   "execution_count": 47,
   "metadata": {
    "execution": {
     "iopub.execute_input": "2021-11-10T10:10:04.056346Z",
     "iopub.status.busy": "2021-11-10T10:10:04.055357Z",
     "iopub.status.idle": "2021-11-10T10:10:04.355517Z",
     "shell.execute_reply": "2021-11-10T10:10:04.355954Z",
     "shell.execute_reply.started": "2021-09-21T07:50:18.581877Z"
    },
    "papermill": {
     "duration": 0.368389,
     "end_time": "2021-11-10T10:10:04.356148",
     "exception": false,
     "start_time": "2021-11-10T10:10:03.987759",
     "status": "completed"
    },
    "tags": []
   },
   "outputs": [
    {
     "data": {
      "text/plain": [
       "Text(0, 0.5, 'Product Category Name')"
      ]
     },
     "execution_count": 47,
     "metadata": {},
     "output_type": "execute_result"
    },
    {
     "data": {
      "image/png": "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\n",
      "text/plain": [
       "<Figure size 432x288 with 1 Axes>"
      ]
     },
     "metadata": {
      "needs_background": "light"
     },
     "output_type": "display_data"
    }
   ],
   "source": [
    "sns.barplot(data = lowest_10_ratings, x = 'review_score', y = 'product_category_name')\n",
    "plt.title('Lowest 10 Product Ratings')\n",
    "plt.xlabel('Average Rating')\n",
    "plt.ylabel('Product Category Name')"
   ]
  },
  {
   "cell_type": "markdown",
   "metadata": {
    "papermill": {
     "duration": 0.052991,
     "end_time": "2021-11-10T10:10:04.461456",
     "exception": false,
     "start_time": "2021-11-10T10:10:04.408465",
     "status": "completed"
    },
    "tags": []
   },
   "source": [
    "#### Insurance Services have the worst ratings, followed by fraldas higiene products"
   ]
  },
  {
   "cell_type": "code",
   "execution_count": 48,
   "metadata": {
    "execution": {
     "iopub.execute_input": "2021-11-10T10:10:04.572168Z",
     "iopub.status.busy": "2021-11-10T10:10:04.571468Z",
     "iopub.status.idle": "2021-11-10T10:10:04.574807Z",
     "shell.execute_reply": "2021-11-10T10:10:04.574332Z",
     "shell.execute_reply.started": "2021-09-21T07:58:15.46515Z"
    },
    "papermill": {
     "duration": 0.060777,
     "end_time": "2021-11-10T10:10:04.574945",
     "exception": false,
     "start_time": "2021-11-10T10:10:04.514168",
     "status": "completed"
    },
    "tags": []
   },
   "outputs": [
    {
     "data": {
      "text/plain": [
       "['customers',\n",
       " 'sellers',\n",
       " 'order_reviews',\n",
       " 'order_items',\n",
       " 'products',\n",
       " 'geolocation',\n",
       " 'product_category',\n",
       " 'orders',\n",
       " 'payments']"
      ]
     },
     "execution_count": 48,
     "metadata": {},
     "output_type": "execute_result"
    }
   ],
   "source": [
    "# list print again list of all datasets\n",
    "list_of_all_datasets"
   ]
  },
  {
   "cell_type": "code",
   "execution_count": 49,
   "metadata": {
    "execution": {
     "iopub.execute_input": "2021-11-10T10:10:04.692427Z",
     "iopub.status.busy": "2021-11-10T10:10:04.691800Z",
     "iopub.status.idle": "2021-11-10T10:10:04.695628Z",
     "shell.execute_reply": "2021-11-10T10:10:04.695077Z",
     "shell.execute_reply.started": "2021-09-21T07:58:40.957603Z"
    },
    "papermill": {
     "duration": 0.068531,
     "end_time": "2021-11-10T10:10:04.695770",
     "exception": false,
     "start_time": "2021-11-10T10:10:04.627239",
     "status": "completed"
    },
    "tags": []
   },
   "outputs": [
    {
     "data": {
      "text/html": [
       "<div>\n",
       "<style scoped>\n",
       "    .dataframe tbody tr th:only-of-type {\n",
       "        vertical-align: middle;\n",
       "    }\n",
       "\n",
       "    .dataframe tbody tr th {\n",
       "        vertical-align: top;\n",
       "    }\n",
       "\n",
       "    .dataframe thead th {\n",
       "        text-align: right;\n",
       "    }\n",
       "</style>\n",
       "<table border=\"1\" class=\"dataframe\">\n",
       "  <thead>\n",
       "    <tr style=\"text-align: right;\">\n",
       "      <th></th>\n",
       "      <th>geolocation_zip_code_prefix</th>\n",
       "      <th>geolocation_lat</th>\n",
       "      <th>geolocation_lng</th>\n",
       "      <th>geolocation_city</th>\n",
       "      <th>geolocation_state</th>\n",
       "    </tr>\n",
       "  </thead>\n",
       "  <tbody>\n",
       "    <tr>\n",
       "      <th>0</th>\n",
       "      <td>1037</td>\n",
       "      <td>-23.545621</td>\n",
       "      <td>-46.639292</td>\n",
       "      <td>sao paulo</td>\n",
       "      <td>SP</td>\n",
       "    </tr>\n",
       "    <tr>\n",
       "      <th>1</th>\n",
       "      <td>1046</td>\n",
       "      <td>-23.546081</td>\n",
       "      <td>-46.644820</td>\n",
       "      <td>sao paulo</td>\n",
       "      <td>SP</td>\n",
       "    </tr>\n",
       "    <tr>\n",
       "      <th>2</th>\n",
       "      <td>1046</td>\n",
       "      <td>-23.546129</td>\n",
       "      <td>-46.642951</td>\n",
       "      <td>sao paulo</td>\n",
       "      <td>SP</td>\n",
       "    </tr>\n",
       "    <tr>\n",
       "      <th>3</th>\n",
       "      <td>1041</td>\n",
       "      <td>-23.544392</td>\n",
       "      <td>-46.639499</td>\n",
       "      <td>sao paulo</td>\n",
       "      <td>SP</td>\n",
       "    </tr>\n",
       "    <tr>\n",
       "      <th>4</th>\n",
       "      <td>1035</td>\n",
       "      <td>-23.541578</td>\n",
       "      <td>-46.641607</td>\n",
       "      <td>sao paulo</td>\n",
       "      <td>SP</td>\n",
       "    </tr>\n",
       "  </tbody>\n",
       "</table>\n",
       "</div>"
      ],
      "text/plain": [
       "   geolocation_zip_code_prefix  geolocation_lat  geolocation_lng  \\\n",
       "0                         1037       -23.545621       -46.639292   \n",
       "1                         1046       -23.546081       -46.644820   \n",
       "2                         1046       -23.546129       -46.642951   \n",
       "3                         1041       -23.544392       -46.639499   \n",
       "4                         1035       -23.541578       -46.641607   \n",
       "\n",
       "  geolocation_city geolocation_state  \n",
       "0        sao paulo                SP  \n",
       "1        sao paulo                SP  \n",
       "2        sao paulo                SP  \n",
       "3        sao paulo                SP  \n",
       "4        sao paulo                SP  "
      ]
     },
     "execution_count": 49,
     "metadata": {},
     "output_type": "execute_result"
    }
   ],
   "source": [
    "geolocation.head()"
   ]
  },
  {
   "cell_type": "code",
   "execution_count": 50,
   "metadata": {
    "execution": {
     "iopub.execute_input": "2021-11-10T10:10:04.809166Z",
     "iopub.status.busy": "2021-11-10T10:10:04.808076Z",
     "iopub.status.idle": "2021-11-10T10:10:04.916262Z",
     "shell.execute_reply": "2021-11-10T10:10:04.915720Z",
     "shell.execute_reply.started": "2021-09-21T07:59:17.975012Z"
    },
    "papermill": {
     "duration": 0.164563,
     "end_time": "2021-11-10T10:10:04.916410",
     "exception": false,
     "start_time": "2021-11-10T10:10:04.751847",
     "status": "completed"
    },
    "tags": []
   },
   "outputs": [
    {
     "data": {
      "text/plain": [
       "geolocation_zip_code_prefix    0\n",
       "geolocation_lat                0\n",
       "geolocation_lng                0\n",
       "geolocation_city               0\n",
       "geolocation_state              0\n",
       "dtype: int64"
      ]
     },
     "execution_count": 50,
     "metadata": {},
     "output_type": "execute_result"
    }
   ],
   "source": [
    "geolocation.isnull().sum()"
   ]
  },
  {
   "cell_type": "code",
   "execution_count": 51,
   "metadata": {
    "execution": {
     "iopub.execute_input": "2021-11-10T10:10:05.073574Z",
     "iopub.status.busy": "2021-11-10T10:10:05.072631Z",
     "iopub.status.idle": "2021-11-10T10:10:05.114271Z",
     "shell.execute_reply": "2021-11-10T10:10:05.113736Z",
     "shell.execute_reply.started": "2021-09-21T08:01:29.243132Z"
    },
    "papermill": {
     "duration": 0.143344,
     "end_time": "2021-11-10T10:10:05.114424",
     "exception": false,
     "start_time": "2021-11-10T10:10:04.971080",
     "status": "completed"
    },
    "tags": []
   },
   "outputs": [
    {
     "data": {
      "text/plain": [
       "8011"
      ]
     },
     "execution_count": 51,
     "metadata": {},
     "output_type": "execute_result"
    }
   ],
   "source": [
    "len(geolocation.geolocation_city.unique())"
   ]
  },
  {
   "cell_type": "markdown",
   "metadata": {
    "papermill": {
     "duration": 0.053393,
     "end_time": "2021-11-10T10:10:05.222356",
     "exception": false,
     "start_time": "2021-11-10T10:10:05.168963",
     "status": "completed"
    },
    "tags": []
   },
   "source": [
    "#### There are 8011 unique city from geolocation data."
   ]
  },
  {
   "cell_type": "code",
   "execution_count": null,
   "metadata": {
    "papermill": {
     "duration": 0.059878,
     "end_time": "2021-11-10T10:10:05.337539",
     "exception": false,
     "start_time": "2021-11-10T10:10:05.277661",
     "status": "completed"
    },
    "tags": []
   },
   "outputs": [],
   "source": []
  }
 ],
 "metadata": {
  "kernelspec": {
   "display_name": "Python 3",
   "language": "python",
   "name": "python3"
  },
  "language_info": {
   "codemirror_mode": {
    "name": "ipython",
    "version": 3
   },
   "file_extension": ".py",
   "mimetype": "text/x-python",
   "name": "python",
   "nbconvert_exporter": "python",
   "pygments_lexer": "ipython3",
   "version": "3.8.5"
  },
  "papermill": {
   "default_parameters": {},
   "duration": 23.923535,
   "end_time": "2021-11-10T10:10:06.908274",
   "environment_variables": {},
   "exception": null,
   "input_path": "__notebook__.ipynb",
   "output_path": "__notebook__.ipynb",
   "parameters": {},
   "start_time": "2021-11-10T10:09:42.984739",
   "version": "2.3.3"
  }
 },
 "nbformat": 4,
 "nbformat_minor": 5
}
